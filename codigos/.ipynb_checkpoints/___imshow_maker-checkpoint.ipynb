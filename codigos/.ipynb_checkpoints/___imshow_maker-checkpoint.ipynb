{
 "metadata": {
  "name": "",
  "signature": "sha256:b413fd60b1982d0a352b7a8260192751b6b8714fa3a61336058038a3feafda92"
 },
 "nbformat": 3,
 "nbformat_minor": 0,
 "worksheets": [
  {
   "cells": [
    {
     "cell_type": "code",
     "collapsed": false,
     "input": [
      "import Gadget as G\n",
      "import matplotlib as mpl \n",
      "import matplotlib.pyplot as plt\n",
      "from matplotlib.offsetbox import AnchoredText\n",
      "from matplotlib.mlab import griddata\n",
      "from mpl_toolkits.axes_grid1 import make_axes_locatable\n",
      "import numpy       as np\n",
      "import math        as mt\n",
      "import statistics  as st\n",
      "import snap_blocks as sb\n",
      "import plots       as im"
     ],
     "language": "python",
     "metadata": {},
     "outputs": [],
     "prompt_number": 1
    },
    {
     "cell_type": "code",
     "collapsed": false,
     "input": [
      "#plot parameters\n",
      "plt.rc('text', usetex=True)\n",
      "font = {'family': 'serif', 'size': 33, 'serif': ['computer modern roman']}\n",
      "plt.rc('font', **font)\n",
      "plt.rc('legend', **{'fontsize': 24}) \n",
      "plt.rcParams['text.latex.preamble'] = [r'\\usepackage{amsmath}']\n",
      "plt.rcParams['axes.linewidth'] = 1.0\n",
      "plt.rcParams['xtick.major.size'] = 8\n",
      "plt.rcParams['xtick.minor.size'] = 4\n",
      "plt.rcParams['ytick.major.size'] = 6\n",
      "plt.rcParams['ytick.minor.size'] = 3\n",
      "plt.rc('lines', linewidth=3)"
     ],
     "language": "python",
     "metadata": {},
     "outputs": [],
     "prompt_number": 2
    },
    {
     "cell_type": "code",
     "collapsed": false,
     "input": [
      "#declaration of paths\n",
      "path_main = '/home/meugenia/Documentos/discos/'\n",
      "path_snap = path_main+'snaps/'\n",
      "path_save = path_main +'plots/'"
     ],
     "language": "python",
     "metadata": {},
     "outputs": [],
     "prompt_number": 3
    },
    {
     "cell_type": "code",
     "collapsed": false,
     "input": [
      "snap = 'snapshot_000'\n",
      "ids, x,y,z,mass,rho,vx,vy,vz,bx,by,bz,vrms,hsml,eint = sb.reading_snap(path_snap,snap,0)\n",
      "ids_s,x_s,y_s,z_s,mass_s,rho_s,vx_s,vy_s,vz_s,bx_s,by_s,bz_s,vrms_s,hsml_s,eint_s = \\\n",
      "sb.sorting_by_ids(ids,x,y,z,mass,rho,vx,vy,vz,bx,by,bz,vrms,hsml,eint)"
     ],
     "language": "python",
     "metadata": {},
     "outputs": [],
     "prompt_number": 4
    },
    {
     "cell_type": "code",
     "collapsed": false,
     "input": [
      "#paths     =path_save+'IMSHOW_EINT/'\n",
      "#paths     =path_save+'IMSHOW_RHO/'\n",
      "paths     =path_save+'IMSHOW_VRMS/'\n",
      "filename ='prueba_'\n",
      "\n",
      "limx= [0,9]\n",
      "limy= [-1,1]\n",
      "limz= [-3,3]\n",
      "limrho=[-7,-0.6]\n",
      "liminte=[-4,1]\n",
      "limvrms=[-3,1]\n",
      "\n",
      "limp =limvrms\n",
      "im.plots_IMSHOW(snap,x_s,z_s,y_s,np.log10(vrms_s),limx,limz,limy,limp,1000,9,'vrms',paths,filename)"
     ],
     "language": "python",
     "metadata": {},
     "outputs": [
      {
       "output_type": "stream",
       "stream": "stderr",
       "text": [
        "/usr/lib64/python2.7/site-packages/matplotlib/tri/triangulation.py:110: FutureWarning: comparison to `None` will result in an elementwise object comparison in the future.\n",
        "  self._neighbors)\n",
        "/usr/lib64/python2.7/site-packages/matplotlib/collections.py:650: FutureWarning: elementwise comparison failed; returning scalar instead, but in the future will perform elementwise comparison\n",
        "  if self._edgecolors_original != str('face'):\n"
       ]
      },
      {
       "output_type": "stream",
       "stream": "stderr",
       "text": [
        "/usr/lib64/python2.7/site-packages/matplotlib/collections.py:590: FutureWarning: elementwise comparison failed; returning scalar instead, but in the future will perform elementwise comparison\n",
        "  if self._edgecolors == str('face'):\n"
       ]
      }
     ],
     "prompt_number": 6
    },
    {
     "cell_type": "code",
     "collapsed": false,
     "input": [],
     "language": "python",
     "metadata": {},
     "outputs": []
    }
   ],
   "metadata": {}
  }
 ]
}