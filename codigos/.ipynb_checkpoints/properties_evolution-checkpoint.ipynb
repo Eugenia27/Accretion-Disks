{
 "metadata": {
  "name": "",
  "signature": "sha256:9c128c1968051ffd5f3bb31e277222a666db2ab396256a4e75f13e300a612433"
 },
 "nbformat": 3,
 "nbformat_minor": 0,
 "worksheets": [
  {
   "cells": [
    {
     "cell_type": "code",
     "collapsed": false,
     "input": [
      "import Gadget as G\n",
      "import matplotlib as mpl \n",
      "import matplotlib.pyplot as plt\n",
      "from matplotlib.offsetbox import AnchoredText\n",
      "from matplotlib.mlab import griddata\n",
      "from mpl_toolkits.axes_grid1 import make_axes_locatable\n",
      "import numpy       as np\n",
      "import math        as mt\n",
      "import statistics  as st\n",
      "import snap_blocks as sb"
     ],
     "language": "python",
     "metadata": {},
     "outputs": [],
     "prompt_number": 1
    },
    {
     "cell_type": "code",
     "collapsed": false,
     "input": [
      "#plot parameters\n",
      "plt.rc('text', usetex=True)\n",
      "font = {'family': 'serif', 'size': 33, 'serif': ['computer modern roman']}\n",
      "plt.rc('font', **font)\n",
      "plt.rc('legend', **{'fontsize': 24}) \n",
      "plt.rcParams['text.latex.preamble'] = [r'\\usepackage{amsmath}']\n",
      "plt.rcParams['axes.linewidth'] = 1.0\n",
      "plt.rcParams['xtick.major.size'] = 8\n",
      "plt.rcParams['xtick.minor.size'] = 4\n",
      "plt.rcParams['ytick.major.size'] = 6\n",
      "plt.rcParams['ytick.minor.size'] = 3\n",
      "plt.rc('lines', linewidth=3)"
     ],
     "language": "python",
     "metadata": {},
     "outputs": [],
     "prompt_number": 2
    },
    {
     "cell_type": "code",
     "collapsed": false,
     "input": [
      "#declaration of paths\n",
      "path_main = '/home/meugenia/Documentos/discos/'\n",
      "path_snap = path_main+'snaps/'\n",
      "path_save = path_main +'plots/'"
     ],
     "language": "python",
     "metadata": {},
     "outputs": [],
     "prompt_number": 3
    },
    {
     "cell_type": "code",
     "collapsed": false,
     "input": [
      "snap = 'snapshot_000'\n",
      "ids, x,y,z,mass,rho,vel,bx,by,bz,vrms,hsml,eint = sb.reading_snap(path_snap,snap,0)\n",
      "ids_s,x_s,y_s,z_s,mass_s,rho_s,vel_s,bx_s,by_s,bz_s,vrms_s,hsml_s,eint_s = \\\n",
      "sb.sorting_by_ids(ids,x,y,z,mass,rho,vel,bx,by,bz,vrms,hsml,eint)"
     ],
     "language": "python",
     "metadata": {},
     "outputs": [],
     "prompt_number": 4
    },
    {
     "cell_type": "code",
     "collapsed": false,
     "input": [
      "vx_s = np.array([row[0] for row in vel_s])\n",
      "vy_s = np.array([row[1] for row in vel_s])\n",
      "vz_s = np.array([row[2] for row in vel_s])\n",
      "v_s = (vx_s*vx_s+vy_s*vy_s+vz_s*vz_s)**0.5"
     ],
     "language": "python",
     "metadata": {},
     "outputs": [],
     "prompt_number": 5
    },
    {
     "cell_type": "code",
     "collapsed": false,
     "input": [
      "lrho_s = np.log10(rho_s)\n",
      "rho_lim=-3.8\n",
      "\n",
      "ic_idd   =  ids_s[lrho_s>rho_lim]\n",
      "ic_xd    =    x_s[lrho_s>rho_lim]\n",
      "ic_yd    =    y_s[lrho_s>rho_lim]\n",
      "ic_zd    =    z_s[lrho_s>rho_lim]\n",
      "ic_vxd   =   vx_s[lrho_s>rho_lim]\n",
      "ic_vyd   =   vy_s[lrho_s>rho_lim]\n",
      "ic_vzd   =   vz_s[lrho_s>rho_lim]\n",
      "ic_bxd   =   bx_s[lrho_s>rho_lim]\n",
      "ic_byd   =   by_s[lrho_s>rho_lim]\n",
      "ic_bzd   =   bz_s[lrho_s>rho_lim]\n",
      "ic_eintd = eint_s[lrho_s>rho_lim]\n",
      "ic_vrmsd = vrms_s[lrho_s>rho_lim]\n",
      "ic_rhod  =  rho_s[lrho_s>rho_lim]\n",
      "ic_hsmld = hsml_s[lrho_s>rho_lim]"
     ],
     "language": "python",
     "metadata": {},
     "outputs": [],
     "prompt_number": 6
    },
    {
     "cell_type": "code",
     "collapsed": false,
     "input": [
      "np.savetxt(path_main+'initial_conditions_rhoabs3.8.txt',np.c_[ic_idd,ic_xd,ic_yd,ic_zd,ic_vxd,ic_vyd,ic_vzd,\n",
      "           ic_bxd,ic_byd,ic_bzd,ic_eintd,ic_vrmsd,ic_rhod,ic_hsmld],\n",
      "           fmt='%8d %12.4e %12.4e %12.4e %12.4e %12.4e %12.4e %12.4e %12.4e %12.4e %12.4e %12.4e %12.4e %12.4e')"
     ],
     "language": "python",
     "metadata": {},
     "outputs": [],
     "prompt_number": 7
    },
    {
     "cell_type": "code",
     "collapsed": false,
     "input": [
      "snap = 'snapshot_010'\n",
      "idst, xt,yt,zt,masst,rhot,velt,bxt,byt,bzt,vrmst,hsmlt,eintt = sb.reading_snap(path_snap,snap,0)\n",
      "idst_s,xt_s,yt_s,zt_s,masst_s,rhot_s,velt_s,bxt_s,byt_s,bzt_s,vrmst_s,hsmlt_s,eintt_s = \\\n",
      "sb.sorting_by_ids(idst,xt,yt,zt,masst,rhot,velt,bxt,byt,bzt,vrmst,hsmlt,eintt)"
     ],
     "language": "python",
     "metadata": {},
     "outputs": [],
     "prompt_number": 9
    },
    {
     "cell_type": "code",
     "collapsed": false,
     "input": [
      "vxt = np.array([row[0] for row in velt_s])\n",
      "vyt = np.array([row[1] for row in velt_s])\n",
      "vzt = np.array([row[2] for row in velt_s])"
     ],
     "language": "python",
     "metadata": {},
     "outputs": [],
     "prompt_number": 10
    },
    {
     "cell_type": "code",
     "collapsed": false,
     "input": [
      "len(ids)-len(vxt) #perdimo 2395 particulas en los primero 10 segundos"
     ],
     "language": "python",
     "metadata": {},
     "outputs": [
      {
       "metadata": {},
       "output_type": "pyout",
       "prompt_number": 13,
       "text": [
        "2395"
       ]
      }
     ],
     "prompt_number": 13
    },
    {
     "cell_type": "code",
     "collapsed": false,
     "input": [
      "idt    = np.array([])\n",
      "xdt    = np.array([])\n",
      "ydt    = np.array([])\n",
      "zdt    = np.array([])\n",
      "vxdt   = np.array([])\n",
      "vydt   = np.array([])\n",
      "vzdt   = np.array([])\n",
      "bxdt   = np.array([])\n",
      "bydt   = np.array([])\n",
      "bzdt   = np.array([])\n",
      "vrmsdt  = np.array([])\n",
      "eintdt = np.array([])\n",
      "rhodt  = np.array([])\n",
      "j=0\n",
      "\n",
      "for i in range(len(idst_s)):\n",
      "    if i%100000==0:\n",
      "        print str(i)+' falta menos'\n",
      "    if idst_s[i]<ic_idd.min():\n",
      "        continue\n",
      "    if idst_s[i]==ic_idd[j]:\n",
      "        idt    = np.append(idt   , idst_s[i])\n",
      "        xdt    = np.append(xdt   , xt_s[i])\n",
      "        ydt    = np.append(ydt   , yt_s[i])\n",
      "        zdt    = np.append(zdt   , zt_s[i])\n",
      "        vxdt   = np.append(vxdt  , vxt[i])\n",
      "        vydt   = np.append(vydt  , vyt[i])\n",
      "        vzdt   = np.append(vzdt  , vzt[i])\n",
      "        bxdt   = np.append(bxdt  , bxt_s[i])\n",
      "        bydt   = np.append(bydt  , byt_s[i])\n",
      "        bzdt   = np.append(bzdt  , bzt_s[i])\n",
      "        rhodt  = np.append(rhodt , rhot_s[i])\n",
      "        vrmsdt = np.append(vrmsdt , vrmst_s[i])\n",
      "        eintdt = np.append(eintdt , eintt_s[i])\n",
      "        j+=1"
     ],
     "language": "python",
     "metadata": {},
     "outputs": [
      {
       "ename": "NameError",
       "evalue": "name 'no' is not defined",
       "output_type": "pyerr",
       "traceback": [
        "\u001b[1;31m---------------------------------------------------------------------------\u001b[0m\n\u001b[1;31mNameError\u001b[0m                                 Traceback (most recent call last)",
        "\u001b[1;32m<ipython-input-14-2a8e8077cb2c>\u001b[0m in \u001b[0;36m<module>\u001b[1;34m()\u001b[0m\n\u001b[1;32m----> 1\u001b[1;33m \u001b[0midt\u001b[0m    \u001b[1;33m=\u001b[0m \u001b[0mno\u001b[0m\u001b[1;33m.\u001b[0m\u001b[0marray\u001b[0m\u001b[1;33m(\u001b[0m\u001b[1;33m[\u001b[0m\u001b[1;33m]\u001b[0m\u001b[1;33m)\u001b[0m\u001b[1;33m\u001b[0m\u001b[0m\n\u001b[0m\u001b[0;32m      2\u001b[0m \u001b[0mxdt\u001b[0m    \u001b[1;33m=\u001b[0m \u001b[0mnp\u001b[0m\u001b[1;33m.\u001b[0m\u001b[0marray\u001b[0m\u001b[1;33m(\u001b[0m\u001b[1;33m[\u001b[0m\u001b[1;33m]\u001b[0m\u001b[1;33m)\u001b[0m\u001b[1;33m\u001b[0m\u001b[0m\n\u001b[0;32m      3\u001b[0m \u001b[0mydt\u001b[0m    \u001b[1;33m=\u001b[0m \u001b[0mnp\u001b[0m\u001b[1;33m.\u001b[0m\u001b[0marray\u001b[0m\u001b[1;33m(\u001b[0m\u001b[1;33m[\u001b[0m\u001b[1;33m]\u001b[0m\u001b[1;33m)\u001b[0m\u001b[1;33m\u001b[0m\u001b[0m\n\u001b[0;32m      4\u001b[0m \u001b[0mzdt\u001b[0m    \u001b[1;33m=\u001b[0m \u001b[0mnp\u001b[0m\u001b[1;33m.\u001b[0m\u001b[0marray\u001b[0m\u001b[1;33m(\u001b[0m\u001b[1;33m[\u001b[0m\u001b[1;33m]\u001b[0m\u001b[1;33m)\u001b[0m\u001b[1;33m\u001b[0m\u001b[0m\n\u001b[0;32m      5\u001b[0m \u001b[0mvxdt\u001b[0m   \u001b[1;33m=\u001b[0m \u001b[0mnp\u001b[0m\u001b[1;33m.\u001b[0m\u001b[0marray\u001b[0m\u001b[1;33m(\u001b[0m\u001b[1;33m[\u001b[0m\u001b[1;33m]\u001b[0m\u001b[1;33m)\u001b[0m\u001b[1;33m\u001b[0m\u001b[0m\n",
        "\u001b[1;31mNameError\u001b[0m: name 'no' is not defined"
       ]
      }
     ],
     "prompt_number": 14
    },
    {
     "cell_type": "code",
     "collapsed": false,
     "input": [
      "plt.scatter(xdt,zdt,s=1,marker='.')\n",
      "plt.show()"
     ],
     "language": "python",
     "metadata": {},
     "outputs": [],
     "prompt_number": 110
    },
    {
     "cell_type": "code",
     "collapsed": false,
     "input": [
      "np.savetxt(path_main+'time110_rhoabs3.8.txt',np.c_[idt, xdt,ydt,zdt,vxdt,vydt,vzdt,bxdt,bydt,bzdt,eintdt,vrmsdt,rhodt],\n",
      "           \n",
      "           fmt='%8d %12.4e %12.4e %12.4e %12.4e %12.4e %12.4e %12.4e %12.4e %12.4e %12.4e %12.4e %12.4e')"
     ],
     "language": "python",
     "metadata": {},
     "outputs": [
      {
       "ename": "ValueError",
       "evalue": "all the input array dimensions except for the concatenation axis must match exactly",
       "output_type": "pyerr",
       "traceback": [
        "\u001b[1;31m---------------------------------------------------------------------------\u001b[0m\n\u001b[1;31mValueError\u001b[0m                                Traceback (most recent call last)",
        "\u001b[1;32m<ipython-input-112-df393bfce9e9>\u001b[0m in \u001b[0;36m<module>\u001b[1;34m()\u001b[0m\n\u001b[1;32m----> 1\u001b[1;33m np.savetxt(path_main+'time110_rhoabs3.8.txt',np.c_[xdt,ydt,zdt,vxdt,vydt,vzdt,bxdt,bydt,bzdt,eintdt,vrmsdt,rhodt],\n\u001b[0m\u001b[0;32m      2\u001b[0m            fmt='%12.4e %12.4e %12.4e %12.4e %12.4e %12.4e %12.4e %12.4e %12.4e %12.4e %12.4e %12.4e')\n",
        "\u001b[1;32m/usr/lib64/python2.7/site-packages/numpy/lib/index_tricks.pyc\u001b[0m in \u001b[0;36m__getitem__\u001b[1;34m(self, key)\u001b[0m\n\u001b[0;32m    336\u001b[0m                 \u001b[0mobjs\u001b[0m\u001b[1;33m[\u001b[0m\u001b[0mk\u001b[0m\u001b[1;33m]\u001b[0m \u001b[1;33m=\u001b[0m \u001b[0mobjs\u001b[0m\u001b[1;33m[\u001b[0m\u001b[0mk\u001b[0m\u001b[1;33m]\u001b[0m\u001b[1;33m.\u001b[0m\u001b[0mastype\u001b[0m\u001b[1;33m(\u001b[0m\u001b[0mfinal_dtype\u001b[0m\u001b[1;33m)\u001b[0m\u001b[1;33m\u001b[0m\u001b[0m\n\u001b[0;32m    337\u001b[0m \u001b[1;33m\u001b[0m\u001b[0m\n\u001b[1;32m--> 338\u001b[1;33m         \u001b[0mres\u001b[0m \u001b[1;33m=\u001b[0m \u001b[0m_nx\u001b[0m\u001b[1;33m.\u001b[0m\u001b[0mconcatenate\u001b[0m\u001b[1;33m(\u001b[0m\u001b[0mtuple\u001b[0m\u001b[1;33m(\u001b[0m\u001b[0mobjs\u001b[0m\u001b[1;33m)\u001b[0m\u001b[1;33m,\u001b[0m \u001b[0maxis\u001b[0m\u001b[1;33m=\u001b[0m\u001b[0mself\u001b[0m\u001b[1;33m.\u001b[0m\u001b[0maxis\u001b[0m\u001b[1;33m)\u001b[0m\u001b[1;33m\u001b[0m\u001b[0m\n\u001b[0m\u001b[0;32m    339\u001b[0m         \u001b[1;32mreturn\u001b[0m \u001b[0mself\u001b[0m\u001b[1;33m.\u001b[0m\u001b[0m_retval\u001b[0m\u001b[1;33m(\u001b[0m\u001b[0mres\u001b[0m\u001b[1;33m)\u001b[0m\u001b[1;33m\u001b[0m\u001b[0m\n\u001b[0;32m    340\u001b[0m \u001b[1;33m\u001b[0m\u001b[0m\n",
        "\u001b[1;31mValueError\u001b[0m: all the input array dimensions except for the concatenation axis must match exactly"
       ]
      }
     ],
     "prompt_number": 112
    },
    {
     "cell_type": "code",
     "collapsed": false,
     "input": [
      "np.savetxt(path_main+'time110_rhoabs3.8.txt',np.c_[xdt,ydt,zdt,vxdt,vydt,vzdt,bxdt,bydt,bzdt,eintdt,vrmsdt,rhodt],\\\n",
      "           fmt='%12.4e %12.4e %12.4e %12.4e %12.4e %12.4e %12.4e %12.4e %12.4e %12.4e %12.4e %12.4e')"
     ],
     "language": "python",
     "metadata": {},
     "outputs": [
      {
       "ename": "ValueError",
       "evalue": "all the input array dimensions except for the concatenation axis must match exactly",
       "output_type": "pyerr",
       "traceback": [
        "\u001b[1;31m---------------------------------------------------------------------------\u001b[0m\n\u001b[1;31mValueError\u001b[0m                                Traceback (most recent call last)",
        "\u001b[1;32m<ipython-input-115-0f862ff897f3>\u001b[0m in \u001b[0;36m<module>\u001b[1;34m()\u001b[0m\n\u001b[1;32m----> 1\u001b[1;33m \u001b[0mnp\u001b[0m\u001b[1;33m.\u001b[0m\u001b[0msavetxt\u001b[0m\u001b[1;33m(\u001b[0m\u001b[0mpath_main\u001b[0m\u001b[1;33m+\u001b[0m\u001b[1;34m'time110_rhoabs3.8.txt'\u001b[0m\u001b[1;33m,\u001b[0m\u001b[0mnp\u001b[0m\u001b[1;33m.\u001b[0m\u001b[0mc_\u001b[0m\u001b[1;33m[\u001b[0m\u001b[0mxdt\u001b[0m\u001b[1;33m,\u001b[0m\u001b[0mydt\u001b[0m\u001b[1;33m,\u001b[0m\u001b[0mzdt\u001b[0m\u001b[1;33m,\u001b[0m\u001b[0mvxdt\u001b[0m\u001b[1;33m,\u001b[0m\u001b[0mvydt\u001b[0m\u001b[1;33m,\u001b[0m\u001b[0mvzdt\u001b[0m\u001b[1;33m,\u001b[0m\u001b[0mbxdt\u001b[0m\u001b[1;33m,\u001b[0m\u001b[0mbydt\u001b[0m\u001b[1;33m,\u001b[0m\u001b[0mbzdt\u001b[0m\u001b[1;33m,\u001b[0m\u001b[0meintdt\u001b[0m\u001b[1;33m,\u001b[0m\u001b[0mvrmsdt\u001b[0m\u001b[1;33m,\u001b[0m\u001b[0mrhodt\u001b[0m\u001b[1;33m]\u001b[0m\u001b[1;33m,\u001b[0m           \u001b[0mfmt\u001b[0m\u001b[1;33m=\u001b[0m\u001b[1;34m'%12.4e %12.4e %12.4e %12.4e %12.4e %12.4e %12.4e %12.4e %12.4e %12.4e %12.4e %12.4e'\u001b[0m\u001b[1;33m)\u001b[0m\u001b[1;33m\u001b[0m\u001b[0m\n\u001b[0m",
        "\u001b[1;32m/usr/lib64/python2.7/site-packages/numpy/lib/index_tricks.pyc\u001b[0m in \u001b[0;36m__getitem__\u001b[1;34m(self, key)\u001b[0m\n\u001b[0;32m    336\u001b[0m                 \u001b[0mobjs\u001b[0m\u001b[1;33m[\u001b[0m\u001b[0mk\u001b[0m\u001b[1;33m]\u001b[0m \u001b[1;33m=\u001b[0m \u001b[0mobjs\u001b[0m\u001b[1;33m[\u001b[0m\u001b[0mk\u001b[0m\u001b[1;33m]\u001b[0m\u001b[1;33m.\u001b[0m\u001b[0mastype\u001b[0m\u001b[1;33m(\u001b[0m\u001b[0mfinal_dtype\u001b[0m\u001b[1;33m)\u001b[0m\u001b[1;33m\u001b[0m\u001b[0m\n\u001b[0;32m    337\u001b[0m \u001b[1;33m\u001b[0m\u001b[0m\n\u001b[1;32m--> 338\u001b[1;33m         \u001b[0mres\u001b[0m \u001b[1;33m=\u001b[0m \u001b[0m_nx\u001b[0m\u001b[1;33m.\u001b[0m\u001b[0mconcatenate\u001b[0m\u001b[1;33m(\u001b[0m\u001b[0mtuple\u001b[0m\u001b[1;33m(\u001b[0m\u001b[0mobjs\u001b[0m\u001b[1;33m)\u001b[0m\u001b[1;33m,\u001b[0m \u001b[0maxis\u001b[0m\u001b[1;33m=\u001b[0m\u001b[0mself\u001b[0m\u001b[1;33m.\u001b[0m\u001b[0maxis\u001b[0m\u001b[1;33m)\u001b[0m\u001b[1;33m\u001b[0m\u001b[0m\n\u001b[0m\u001b[0;32m    339\u001b[0m         \u001b[1;32mreturn\u001b[0m \u001b[0mself\u001b[0m\u001b[1;33m.\u001b[0m\u001b[0m_retval\u001b[0m\u001b[1;33m(\u001b[0m\u001b[0mres\u001b[0m\u001b[1;33m)\u001b[0m\u001b[1;33m\u001b[0m\u001b[0m\n\u001b[0;32m    340\u001b[0m \u001b[1;33m\u001b[0m\u001b[0m\n",
        "\u001b[1;31mValueError\u001b[0m: all the input array dimensions except for the concatenation axis must match exactly"
       ]
      }
     ],
     "prompt_number": 115
    },
    {
     "cell_type": "code",
     "collapsed": false,
     "input": [
      "len(xdt),len(ydt),len(zdt),len(vxdt),len(vydt),len(vzdt),len(bxdt),len(bydt),len(bzdt),len(eintdt),len(vrmsdt),len(rhodt)"
     ],
     "language": "python",
     "metadata": {},
     "outputs": [
      {
       "metadata": {},
       "output_type": "pyout",
       "prompt_number": 116,
       "text": [
        "(13947,\n",
        " 13947,\n",
        " 13947,\n",
        " 13947,\n",
        " 13947,\n",
        " 13947,\n",
        " 13947,\n",
        " 13947,\n",
        " 13947,\n",
        " 13947,\n",
        " 1,\n",
        " 13947)"
       ]
      }
     ],
     "prompt_number": 116
    },
    {
     "cell_type": "code",
     "collapsed": false,
     "input": [],
     "language": "python",
     "metadata": {},
     "outputs": []
    }
   ],
   "metadata": {}
  }
 ]
}