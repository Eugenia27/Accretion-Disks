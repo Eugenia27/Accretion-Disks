{
 "cells": [
  {
   "cell_type": "code",
   "execution_count": 1,
   "metadata": {
    "collapsed": true,
    "deletable": true,
    "editable": true
   },
   "outputs": [],
   "source": [
    "import Gadget as G\n",
    "import matplotlib as mpl \n",
    "import matplotlib.pyplot as plt\n",
    "from matplotlib.offsetbox import AnchoredText\n",
    "from matplotlib.mlab import griddata\n",
    "from mpl_toolkits.axes_grid1 import make_axes_locatable\n",
    "import numpy       as np\n",
    "import math        as mt\n",
    "import statistics  as st\n",
    "import snap_blocks as sb\n",
    "import plots       as im\n",
    "import plot_format as pf"
   ]
  },
  {
   "cell_type": "code",
   "execution_count": 2,
   "metadata": {
    "collapsed": true,
    "deletable": true,
    "editable": true
   },
   "outputs": [],
   "source": [
    "pf.plot_format()"
   ]
  },
  {
   "cell_type": "code",
   "execution_count": 3,
   "metadata": {
    "collapsed": true,
    "deletable": true,
    "editable": true
   },
   "outputs": [],
   "source": [
    "#declaration of paths\n",
    "path_main = '/home/meugenia/Documentos/discos/'\n",
    "path_snap = path_main+'snaps/'\n",
    "path_save = path_main +'plots/'"
   ]
  },
  {
   "cell_type": "code",
   "execution_count": 4,
   "metadata": {
    "collapsed": true,
    "deletable": true,
    "editable": true
   },
   "outputs": [],
   "source": [
    "snap = 'snapshot_000'\n",
    "ids, x,y,z,mass,rho,vx,vy,vz,bx,by,bz,vrms,hsml,eint = sb.reading_snap(path_snap,snap,0)\n",
    "ids_s,x_s,y_s,z_s,mass_s,rho_s,vx_s,vy_s,vz_s,bx_s,by_s,bz_s,vrms_s,hsml_s,eint_s = \\\n",
    "sb.sorting_by_ids(ids,x,y,z,mass,rho,vx,vy,vz,bx,by,bz,vrms,hsml,eint)\n",
    "r=(x_s*x_s+y_s*y_s)**0.5"
   ]
  },
  {
   "cell_type": "code",
   "execution_count": 6,
   "metadata": {
    "collapsed": false,
    "deletable": true,
    "editable": true
   },
   "outputs": [
    {
     "name": "stdout",
     "output_type": "stream",
     "text": [
      "snapshot_000\n",
      "save\n"
     ]
    }
   ],
   "source": [
    "sindex=[\"000\",\"005\", \"010\",\"050\",\"100\",\"110\",\"120\",\"130\",\"140\",\"150\",\"160\",\"170\",\"180\",\"190\",\"200\",\"250\",\"300\",\"350\"]\n",
    "\n",
    "for sn in range(len(sindex)):\n",
    "    if sn!=0:\n",
    "        continue\n",
    "    snap = 'snapshot_'+sindex[sn]\n",
    "    print snap\n",
    "    #ids, x,y,z,mass,rho,vx,vy,vz,bx,by,bz,vrms,hsml,eint = sb.reading_snap(path_snap,snap,0)\n",
    "    #ids_s,x_s,y_s,z_s,mass_s,rho_s,vx_s,vy_s,vz_s,bx_s,by_s,bz_s,vrms_s,hsml_s,eint_s = \\\n",
    "    #sb.sorting_by_ids(ids,x,y,z,mass,rho,vx,vy,vz,bx,by,bz,vrms,hsml,eint)\n",
    "   \n",
    "    typep='rho'\n",
    "    \n",
    "    limx    = [0,9]\n",
    "    limy    = [-1,1]\n",
    "    limz    = [-3,3]\n",
    "    limrho  = [-7,-0.26]\n",
    "    liminte = [-2.15,1]\n",
    "    limvrms = [-3,0]\n",
    "    limr    = [0,9] \n",
    "\n",
    "    if typep=='rho':\n",
    "        prop  = np.log10(rho_s)\n",
    "        limpr = limrho\n",
    "        paths = path_save+'IMSHOW_RHO/niveles/'\n",
    "        textbar = r\"$log$ $\\rho/(M_{\\odot}/kpc^{3})$\"\n",
    "    elif typep=='u':\n",
    "        prop  = np.log10(eint_s)\n",
    "        limpr = liminte\n",
    "        paths = path_save+'IMSHOW_EINT/niveles/'\n",
    "        textbar = r\"$log$  $U/(km/s)^{2}$\"\n",
    "    elif typep=='vrms':\n",
    "        prop  = np.log10(vrms_s)\n",
    "        limpr = limvrms        \n",
    "        paths = path_save+'IMSHOW_VRMS/niveles/'\n",
    "        textbar = r\"$log$ $VRMS/(km/s)$\"\n",
    "    elif typep=='b':\n",
    "        prop  = bz_s\n",
    "        limpr = [bz_s.min(),bz_s.max()]        \n",
    "        paths =path_save+'IMSHOW_BZ/niveles/'\n",
    "        textbar = \"Bz\"\n",
    "\n",
    "    \n",
    "    im.plots_IMSHOW_cc(snap,x_s,z_s,r,prop,limx,limz,limr,limpr,500,10,textbar,paths,typep)\n",
    "    \n",
    "    print 'save'"
   ]
  },
  {
   "cell_type": "code",
   "execution_count": null,
   "metadata": {
    "collapsed": true,
    "deletable": true,
    "editable": true
   },
   "outputs": [],
   "source": []
  }
 ],
 "metadata": {
  "kernelspec": {
   "display_name": "Python 2",
   "language": "python",
   "name": "python2"
  },
  "language_info": {
   "codemirror_mode": {
    "name": "ipython",
    "version": 2
   },
   "file_extension": ".py",
   "mimetype": "text/x-python",
   "name": "python",
   "nbconvert_exporter": "python",
   "pygments_lexer": "ipython2",
   "version": "2.7.10"
  }
 },
 "nbformat": 4,
 "nbformat_minor": 2
}
