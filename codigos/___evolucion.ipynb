{
 "cells": [
  {
   "cell_type": "code",
   "execution_count": 1,
   "metadata": {
    "collapsed": false,
    "deletable": true,
    "editable": true
   },
   "outputs": [],
   "source": [
    "import Gadget as G\n",
    "import matplotlib as mpl \n",
    "import matplotlib.pyplot as plt\n",
    "from matplotlib.offsetbox import AnchoredText\n",
    "from matplotlib.mlab import griddata\n",
    "from mpl_toolkits.axes_grid1 import make_axes_locatable\n",
    "import numpy      as np\n",
    "import math       as mt\n",
    "#import statistics as st\n",
    "import snap_blocks as sb"
   ]
  },
  {
   "cell_type": "code",
   "execution_count": 2,
   "metadata": {
    "collapsed": false,
    "deletable": true,
    "editable": true
   },
   "outputs": [],
   "source": [
    "#declaration of functions\n",
    "def reading_snap(_path,_snap,_parttype):\n",
    "    ids_  = G.read_block(_path+_snap,\"ID  \",parttype=_parttype)\n",
    "    pos_  = G.read_block(_path+_snap,\"POS \",parttype=_parttype)\n",
    "    mass_ = G.read_block(_path+_snap,\"MASS\",parttype=_parttype)\n",
    "    rho_  = G.read_block(_path+_snap,\"RHO \",parttype=_parttype)\n",
    "    vel_  = G.read_block(_path+_snap,\"VEL \",parttype=_parttype)\n",
    "    bfld_ = G.read_block(_path+_snap,\"BFLD\",parttype=_parttype)\n",
    "    vrms_ = G.read_block(_path+_snap,\"VRMS\",parttype=_parttype)\n",
    "    hsml_ = G.read_block(_path+_snap,\"HSML\",parttype=_parttype)\n",
    "    inte_ = G.read_block(_path+_snap,\"U   \",parttype=_parttype)\n",
    "    \n",
    "    x_     =[row[0] for row in pos_]\n",
    "    y_     =[row[1] for row in pos_]\n",
    "    z_     =[row[2] for row in pos_]\n",
    "    xbfld_ =[row[0] for row in bfld_]\n",
    "    ybfld_ =[row[1] for row in bfld_]\n",
    "    zbfld_ =[row[2] for row in bfld_]\n",
    "    return ids_,x_,y_,z_,mass_,rho_,vel_,xbfld_,ybfld_,zbfld_,vrms_,hsml_,inte_\n",
    "\n",
    "def sorting_by_ids(_id,_x,_y,_z,_mass,_rho,_vel,_xbfld,_ybfld,_zbfld,_vrms,_hsml,_inte):\n",
    "    id_,x_,y_,z_,mass_,rho_,vel_,xbfld_,ybfld_,zbfld_,vrms_,hsml_,inte_ = zip(*sorted(zip(_id,_x,_y,_z,_mass,_rho,_vel,_xbfld,_ybfld,_zbfld,_vrms,_hsml,_inte)))\n",
    "    return np.array(id_),np.array(x_),np.array(y_),np.array(z_),np.array(mass_),np.array(rho_),np.array(vel_),np.array(xbfld_),np.array(ybfld_),np.array(zbfld_),np.array(vrms_),np.array(hsml_),np.array(inte_)\n",
    "\n",
    "def subgroup(_ids,_x,_y,_z,_rho,_r,_rmin,_rmax):\n",
    "    sgx_   = _x[(_r < _rmax) & (_r > _rmin)]\n",
    "    sgy_   = _y[(_r < _rmax) & (_r > _rmin)]\n",
    "    sgz_   = _z[(_r < _rmax) & (_r > _rmin)]\n",
    "    sgrho_ = _rho[(_r < _rmax) & (_r > _rmin)]\n",
    "    sgids_ = _ids[(_r < _rmax) & (_r > _rmin)]\n",
    "    sgr_   = _r[(_r < _rmax) & (_r > _rmin)]\n",
    "    return sgx_,sgy_,sgz_,sgrho_,sgids_,sgr_\n",
    "\n",
    "def var_type(var):\n",
    "    if isinstance(var,list):\n",
    "        print 'lista'\n",
    "    elif isinstance(var,tuple):\n",
    "        print 'tupla'    \n",
    "    elif isinstance(var,np.ndarray):\n",
    "        print 'arreglo'\n",
    "        \n",
    "def cilindrical_system(_x,_y):\n",
    "    rc_=(_x*_x+_y*_y)**0.5\n",
    "    return rc_ \n",
    "\n",
    "def visible_ticks(_xticks,_yticks):\n",
    "    xticks = _xticks\n",
    "    for i in range(len(xticks)):\n",
    "        if i%2==0:\n",
    "            xticks[i].label1.set_visible(False)            \n",
    "    yticks = _yticks\n",
    "    for i in range(len(yticks)):\n",
    "        if i%2==0:\n",
    "            yticks[i].label1.set_visible(False)\n",
    "\n",
    "#disck\n",
    "def initial_conditions(_x,_y,_z,_rc,_drcmin,_drcmax,_crcmin,_crcmax,_zmin,_zmax):\n",
    "    xd_=_x[(_rc>_drcmin)&(_rc<_drcmax)&(_z<_zmax)&(_z>_zmin)]\n",
    "    yd_=_y[(_rc>_drcmin)&(_rc<_drcmax)&(_z<_zmax)&(_z>_zmin)]\n",
    "    zd_=_z[(_rc>_drcmin)&(_rc<_drcmax)&(_z<_zmax)&(_z>_zmin)]\n",
    "    xc_=_x[(_rc>_crcmin)&(_rc<_crcmax)&(_z<_zmax)&(_z>_zmin)]\n",
    "    yc_=_y[(_rc>_crcmin)&(_rc<_crcmax)&(_z<_zmax)&(_z>_zmin)]\n",
    "    zc_=_z[(_rc>_crcmin)&(_rc<_crcmax)&(_z<_zmax)&(_z>_zmin)]\n",
    "    return xd_,yd_,zd_,xc_,yc_,zc_ \n",
    "\n",
    "#particles plot\n",
    "def particles_plot(_x,_y,_rproy,_xlim,_minr,_maxr,_xlab,_ylab,_xaxislim,_yaxislim,_msize):\n",
    "    fig = plt.figure(figsize=(8,8))\n",
    "    ax1 = fig.add_subplot(111)\n",
    "    y1=  _y[(_rproy<_maxr)&(_x<_xlim)&(_rproy>_minr)&(_x   >0.0)]\n",
    "    y2=  _y[(_rproy<_maxr)&(_x<0.0)  &(_rproy>_minr)&(_x>-_xlim)]\n",
    "    x1=  _x[(_rproy<_maxr)&(_x<_xlim)&(_rproy>_minr)&(_x   >0.0)]\n",
    "    x2= -_x[(_rproy<_maxr)&(_x<0.0)  &(_rproy>_minr)&(_x>-_xlim)]\n",
    "    #print len(x1),len(y1),'\\n',len(x2),len(y2)\n",
    "    ax1.scatter(x1,y1,s=_msize,label=\"z$>$0\")\n",
    "    #ax1.scatter(x2,y2,s=_msize,color=\"red\",label=\"z$<$0\")\n",
    "    ax1.set_xlim(_xaxislim[0],_xaxislim[1])\n",
    "    ax1.set_ylim(_yaxislim[0],_yaxislim[1])\n",
    "    #ax1.set_ylim(np.min([np.min(lrho1),np.min(lrho2)]),np.max([np.max(lrho1),np.max(lrho2)]))\n",
    "    xticks1,yticks1 = ax1.xaxis.get_major_ticks(),ax1.yaxis.get_major_ticks()      \n",
    "    visible_ticks(xticks1,yticks1)     \n",
    "    ax1.minorticks_on()\n",
    "    ax1.set_xlabel(_xlab)\n",
    "    ax1.set_ylabel(_ylab)\n",
    "    #plt.savefig(path_save+'density'+str(snap)+'.png', dpi=100, bbox_inches='tight')\n",
    "    plt.show()\n",
    "    \n",
    "    \n",
    "#profile plot\n",
    "def profile_plot(_binmeans,_medians,_means,_xlab,_ylab,_xaxislim,_yaxislim,_msize):\n",
    "    fig = plt.figure(figsize=(6,6))\n",
    "    ax1 = fig.add_subplot(111)\n",
    "    ax1.plot(_binmeans,_medians,marker='o',ms=_msize,color='gray',lw=1.8,mew=1,mec='gray',mfc='lightgray',ls=':',alpha=0.9,label='medians')\n",
    "    ax1.plot(_binmeans,_means  ,marker='o',ms=_msize,color='red' ,lw=1.8,mew=1,mec='red' ,mfc='tomato'   ,ls=':',alpha=0.9,label='means')\n",
    "    ax1.set_xlabel(_xlab)\n",
    "    ax1.set_ylabel(_ylab)\n",
    "    ax1.set_xlim(_xaxislim[0],_xaxislim[1])\n",
    "    ax1.set_ylim(_yaxislim[0],_yaxislim[1])\n",
    "    xticks1,yticks1 = ax1.xaxis.get_major_ticks(),ax1.yaxis.get_major_ticks()      \n",
    "    visible_ticks(xticks1,yticks1) \n",
    "    ax1.minorticks_on()\n",
    "    ax1.legend(loc='upper right', frameon=False, scatterpoints=1,borderpad=0.1,handletextpad=0.2)\n",
    "    #plt.savefig(path_save+'profile'+str(snap)+'.png', dpi=100, bbox_inches='tight')\n",
    "    plt.show()    "
   ]
  },
  {
   "cell_type": "code",
   "execution_count": 3,
   "metadata": {
    "collapsed": false,
    "deletable": true,
    "editable": true
   },
   "outputs": [],
   "source": [
    "import matplotlib.cm as cm\n",
    "\n",
    "def plot_U_VRMS_RHO:(_x,_y,_z,_uint,_vrms,_rho,_limx,_limy,_limz,_size,_labelsxy,_labels123,save,path):\n",
    "    x    = _x[(abs(_x)>_limx[0])    & (abs(_x)<_limx[1])]\n",
    "    y    = _y[(abs(_x)>_limx[0])    & (abs(_x)<_limx[1])]\n",
    "    z    = _z[(abs(_x)>_limx[0])    & (abs(_x)<_limx[1])]\n",
    "    e    = _uint[(abs(_x)>_limx[0]) & (abs(_x)<_limx[1])]\n",
    "    vrms = _vrms[(abs(_x)>_limx[0]) & (abs(_x)<_limx[1])]\n",
    "    rho  = _rho[(abs(_x)>_limx[0])  & (abs(_x)<_limx[1])]\n",
    "    \n",
    "    x_    =  x[(y<_limy[1])   & (y>_limy[0]) & (z<_limz[1]) & (z>_limz[0])] \n",
    "    y_    =  y[(y<_limy[1])   & (y>_limy[0]) & (z<_limz[1]) & (z>_limz[0])]\n",
    "    e_    =  e[(y<_limy[1])   & (y>_limy[0]) & (z<_limz[1]) & (z>_limz[0])]\n",
    "    vrms_ = vrms[(y<_limy[1]) & (y>_limy[0]) & (z<_limz[1]) & (z>_limz[0])]\n",
    "    rho_  = rho[(y<_limy[1])  & (y>_limy[0]) & (z<_limz[1]) & (z>_limz[0])]\n",
    "    \n",
    "    xs,ys=size[0],size[1]\n",
    "    \n",
    "    \n",
    "    def subplots(ax,colors,_limx,_limy,_labelxy,_labels123):\n",
    "        #ax = fig.add_subplot(pos)\n",
    "        p=ax.scatter(x_, y_, c=colors, marker='.',edgecolor='NONE')\n",
    "        ax.set_xlabel(_labelxy[0])\n",
    "        ax.set_ylabel(_labelxy[1])\n",
    "        ax.set_xlim(-_limx[1],_limx[1])\n",
    "        ax.set_ylim(_limy[0],_limy[1])\n",
    "        cbar = fig.colorbar(p,ax=ax)\n",
    "        cbar.set_label(_labels123)\n",
    "\n",
    "    fig = plt.figure(figsize=(xs,ys))\n",
    "    ax1 = fig.add_subplot(131)\n",
    "    subplots(ax1,np.log10(e_),_limx,_limy,_labelsxy,_labels123[0])\n",
    "    ax2 = fig.add_subplot(132)\n",
    "    subplots(ax2,np.log10(vrms_),_limx,_limy,_labelsxy,_labels123[1])\n",
    "    ax3 = fig.add_subplot(133)\n",
    "    subplots(ax3,np.log10(rho_),_limx,_limy,_labelsxy,_labels123[2])\n",
    "    \n",
    "    if save==1:\n",
    "        plt.savefig(path, dpi=100, bbox_inches='tight')\n",
    "    plt.show()"
   ]
  },
  {
   "cell_type": "code",
   "execution_count": 54,
   "metadata": {
    "collapsed": false,
    "deletable": true,
    "editable": true
   },
   "outputs": [],
   "source": [
    "def plots_IMSHOW(_snap,_x1,_x2,_x3,_property,_limx1,_limx2,_limx3,_limproperty,_ngrid,_ncont_levels,_prop_type,_paths,_filename):\n",
    "\n",
    "    limx1= _limx1\n",
    "    limx2= _limx2\n",
    "    limx3= _limx3\n",
    "    limp =_limproperty\n",
    "    \n",
    "    x1p = _x1[      (abs(_x1)>limx1[0]) & (abs(_x1)<limx1[1])]\n",
    "    x2p = _x2[      (abs(_x1)>limx1[0]) & (abs(_x1)<limx1[1])]\n",
    "    x3p = _x3[      (abs(_x1)>limx1[0]) & (abs(_x1)<limx1[1])]\n",
    "    pp  = _property[(abs(_x1)>limx1[0]) & (abs(_x1)<limx1[1])]\n",
    "\n",
    "    x1  = x1p[(x2p<limx2[1]) & (x2p>limx2[0]) & (x3p<limx3[1]) & (x3p>limx3[0])]\n",
    "    x2  = x2p[(x2p<limx2[1]) & (x2p>limx2[0]) & (x3p<limx3[1]) & (x3p>limx3[0])]\n",
    "    x3  = x3p[(x2p<limx2[1]) & (x2p>limx2[0]) & (x3p<limx3[1]) & (x3p>limx3[0])]\n",
    "    p   =  pp[(x2p<limx2[1]) & (x2p>limx2[0]) & (x3p<limx3[1]) & (x3p>limx3[0])]\n",
    "\n",
    "    ng = _ngrid\n",
    "    ncl= _ncont_levels\n",
    "    \n",
    "    #plot\n",
    "    fig = plt.figure(figsize=(20,10))\n",
    "    ax = fig.add_subplot(111)\n",
    "\n",
    "    [X, Y]    = np.meshgrid(np.linspace(min(x1),max(x1),ng), np.linspace(min(x2),max(x2),ng))\n",
    "    Z         = griddata(x1,x2,p,X,Y,interp='linear')\n",
    "    map_prop  = ax.imshow(Z,vmin=limp[0],vmax=limp[1])\n",
    "    cont_prop = ax.contour(Z,levels=np.linspace(limp[0],limp[1],ncl), cmap='gist_rainbow_r' )\n",
    "\n",
    "    locsx,labelsx = plt.xticks()\n",
    "    labelsx = [str(i*(2*limx1[1]/float(ng))-limx1[1]) for i in locsx]\n",
    "    tick_locsx = locsx\n",
    "    tick_lblsx = labelsx\n",
    "    plt.xticks(tick_locsx[1:], tick_lblsx[1:])\n",
    "\n",
    "    locsy,labelsy = plt.yticks()\n",
    "    labelsy = [str(i*(2*limx2[1]/float(ng))-limx2[1]) for i in locsy]\n",
    "    tick_locsy = locsy\n",
    "    tick_lblsy = labelsy\n",
    "    plt.yticks(tick_locsy[1:], tick_lblsy[1:])\n",
    "\n",
    "    divider = make_axes_locatable(ax)\n",
    "    cax = divider.append_axes(\"right\", size=\"5%\", pad=0.05)\n",
    "\n",
    "    pt=_prop_type\n",
    "    \n",
    "    if pt==\"rho\":\n",
    "        textbar = r\"$log$ $\\rho/(M_{\\odot}/kpc^{3})$\"\n",
    "    elif pt==\"vrms\":    \n",
    "        textbar = \"$log$ $VRMS/(km/s)$\"\n",
    "    elif pt==\"u\":\n",
    "        textbar = \"$log$  $U/(km/s)^{2}$\"\n",
    "\n",
    "    cbar = fig.colorbar(map_prop,cax=cax, label=textbar,ticks=np.linspace(limp[0],limp[1],ncl))\n",
    "    cbar.add_lines(cont_prop)\n",
    "    \n",
    "    time=snap[9::]\n",
    "    ax.minorticks_on()\n",
    "    plt.text(0.87, 0.92,\"t=\"+time, ha='center', va='center', transform=ax.transAxes,color=\"#ffa74e\")\n",
    "    \n",
    "    #path=path_save+'IMSHOW_RHO/z_ABS3/IM_RHOxz_'+sindex[sn]+'.jpg'\n",
    "    #path=path_save+'IMSHOW_VRMS/z_ABS3/IM_VRMSxz_'+sindex[sn]+'.jpg'\n",
    "    path=_paths+pt+str(time)+'.jpg'\n",
    "    plt.savefig(path, dpi=100, bbox_inches='tight')\n",
    "    plt.show()"
   ]
  },
  {
   "cell_type": "code",
   "execution_count": 2,
   "metadata": {
    "collapsed": false,
    "deletable": true,
    "editable": true
   },
   "outputs": [],
   "source": [
    "#plot parameters\n",
    "plt.rc('text', usetex=True)\n",
    "font = {'family': 'serif', 'size': 33, 'serif': ['computer modern roman']}\n",
    "plt.rc('font', **font)\n",
    "plt.rc('legend', **{'fontsize': 24}) \n",
    "plt.rcParams['text.latex.preamble'] = [r'\\usepackage{amsmath}']\n",
    "plt.rcParams['axes.linewidth'] = 1.0\n",
    "plt.rcParams['xtick.major.size'] = 8\n",
    "plt.rcParams['xtick.minor.size'] = 4\n",
    "plt.rcParams['ytick.major.size'] = 6\n",
    "plt.rcParams['ytick.minor.size'] = 3\n",
    "plt.rc('lines', linewidth=3)"
   ]
  },
  {
   "cell_type": "code",
   "execution_count": 3,
   "metadata": {
    "collapsed": false,
    "deletable": true,
    "editable": true
   },
   "outputs": [],
   "source": [
    "#declaration of paths\n",
    "path_snap=\"/home/meugenia/Documentos/discos/snaps/\"\n",
    "path_save=\"/home/meugenia/Documentos/discos/plots/\""
   ]
  },
  {
   "cell_type": "code",
   "execution_count": 3,
   "metadata": {
    "collapsed": false,
    "deletable": true,
    "editable": true
   },
   "outputs": [
    {
     "ename": "NameError",
     "evalue": "name 'reading_snap' is not defined",
     "output_type": "error",
     "traceback": [
      "\u001b[1;31m---------------------------------------------------------------------------\u001b[0m\n\u001b[1;31mNameError\u001b[0m                                 Traceback (most recent call last)",
      "\u001b[1;32m<ipython-input-3-243eb45e1567>\u001b[0m in \u001b[0;36m<module>\u001b[1;34m()\u001b[0m\n\u001b[0;32m      1\u001b[0m \u001b[1;31m#reading snap and sorting variables by id value\u001b[0m\u001b[1;33m\u001b[0m\u001b[1;33m\u001b[0m\u001b[0m\n\u001b[0;32m      2\u001b[0m \u001b[1;33m\u001b[0m\u001b[0m\n\u001b[1;32m----> 3\u001b[1;33m \u001b[0mids0\u001b[0m\u001b[1;33m,\u001b[0m\u001b[0mx0\u001b[0m\u001b[1;33m,\u001b[0m\u001b[0my0\u001b[0m\u001b[1;33m,\u001b[0m\u001b[0mz0\u001b[0m\u001b[1;33m,\u001b[0m\u001b[0mmass0\u001b[0m\u001b[1;33m,\u001b[0m\u001b[0mrho0\u001b[0m\u001b[1;33m,\u001b[0m\u001b[0mvel0\u001b[0m\u001b[1;33m,\u001b[0m\u001b[0mxbfld0\u001b[0m\u001b[1;33m,\u001b[0m\u001b[0mybfld0\u001b[0m\u001b[1;33m,\u001b[0m\u001b[0mzbfld0\u001b[0m\u001b[1;33m,\u001b[0m\u001b[0mvrms0\u001b[0m\u001b[1;33m,\u001b[0m\u001b[0mhsml0\u001b[0m\u001b[1;33m,\u001b[0m\u001b[0minte0\u001b[0m \u001b[1;33m=\u001b[0m \u001b[0mreading_snap\u001b[0m\u001b[1;33m(\u001b[0m\u001b[0mpath_snap\u001b[0m\u001b[1;33m,\u001b[0m\u001b[0msnap\u001b[0m\u001b[1;33m,\u001b[0m\u001b[1;36m0\u001b[0m\u001b[1;33m)\u001b[0m\u001b[1;33m\u001b[0m\u001b[0m\n\u001b[0m\u001b[0;32m      4\u001b[0m \u001b[0mids0_s\u001b[0m\u001b[1;33m,\u001b[0m\u001b[0mx0_s\u001b[0m\u001b[1;33m,\u001b[0m\u001b[0my0_s\u001b[0m\u001b[1;33m,\u001b[0m\u001b[0mz0_s\u001b[0m\u001b[1;33m,\u001b[0m\u001b[0mmass0_s\u001b[0m\u001b[1;33m,\u001b[0m\u001b[0mrho0_s\u001b[0m\u001b[1;33m,\u001b[0m\u001b[0mvel0_s\u001b[0m\u001b[1;33m,\u001b[0m\u001b[0mxbfld0_s\u001b[0m\u001b[1;33m,\u001b[0m\u001b[0mybfld0_s\u001b[0m\u001b[1;33m,\u001b[0m\u001b[0mzbfld0_s\u001b[0m\u001b[1;33m,\u001b[0m\u001b[0mvrms0_s\u001b[0m\u001b[1;33m,\u001b[0m\u001b[0mhsml0_s\u001b[0m\u001b[1;33m,\u001b[0m\u001b[0minte0_s\u001b[0m \u001b[1;33m=\u001b[0m \u001b[0msorting_by_ids\u001b[0m\u001b[1;33m(\u001b[0m\u001b[0mids0\u001b[0m\u001b[1;33m,\u001b[0m\u001b[0mx0\u001b[0m\u001b[1;33m,\u001b[0m\u001b[0my0\u001b[0m\u001b[1;33m,\u001b[0m\u001b[0mz0\u001b[0m\u001b[1;33m,\u001b[0m\u001b[0mmass0\u001b[0m\u001b[1;33m,\u001b[0m\u001b[0mrho0\u001b[0m\u001b[1;33m,\u001b[0m\u001b[0mvel0\u001b[0m\u001b[1;33m,\u001b[0m\u001b[0mxbfld0\u001b[0m\u001b[1;33m,\u001b[0m\u001b[0mybfld0\u001b[0m\u001b[1;33m,\u001b[0m\u001b[0mzbfld0\u001b[0m\u001b[1;33m,\u001b[0m\u001b[0mvrms0\u001b[0m\u001b[1;33m,\u001b[0m\u001b[0mhsml0\u001b[0m\u001b[1;33m,\u001b[0m\u001b[0minte0\u001b[0m\u001b[1;33m)\u001b[0m\u001b[1;33m\u001b[0m\u001b[0m\n\u001b[0;32m      5\u001b[0m \u001b[0mrc0\u001b[0m \u001b[1;33m=\u001b[0m \u001b[0mcilindrical_system\u001b[0m\u001b[1;33m(\u001b[0m\u001b[0mx0_s\u001b[0m\u001b[1;33m,\u001b[0m\u001b[0my0_s\u001b[0m\u001b[1;33m)\u001b[0m\u001b[1;33m\u001b[0m\u001b[0m\n",
      "\u001b[1;31mNameError\u001b[0m: name 'reading_snap' is not defined"
     ]
    }
   ],
   "source": [
    "#reading snap and sorting variables by id value\n",
    "\n",
    "ids0,x0,y0,z0,mass0,rho0,vel0,xbfld0,ybfld0,zbfld0,vrms0,hsml0,inte0 = reading_snap(path_snap,snap,0)\n",
    "ids0_s,x0_s,y0_s,z0_s,mass0_s,rho0_s,vel0_s,xbfld0_s,ybfld0_s,zbfld0_s,vrms0_s,hsml0_s,inte0_s = sorting_by_ids(ids0,x0,y0,z0,mass0,rho0,vel0,xbfld0,ybfld0,zbfld0,vrms0,hsml0,inte0)\n",
    "rc0 = cilindrical_system(x0_s,y0_s)"
   ]
  },
  {
   "cell_type": "code",
   "execution_count": 4,
   "metadata": {
    "collapsed": false,
    "deletable": true,
    "editable": true
   },
   "outputs": [],
   "source": [
    "snap = 'snapshot_000'\n",
    "ids, x,y,z,mass,rho,vx,vy,vz,bx,by,bz,vrms,hsml,eint = sb.reading_snap(path_snap,snap,0)\n",
    "ids_s,x_s,y_s,z_s,mass_s,rho_s,vx_s,vy_s,vz_s,bx_s,by_s,bz_s,vrms_s,hsml_s,eint_s = \\\n",
    "sb.sorting_by_ids(ids,x,y,z,mass,rho,vx,vy,vz,bx,by,bz,vrms,hsml,eint)"
   ]
  },
  {
   "cell_type": "code",
   "execution_count": 115,
   "metadata": {
    "collapsed": false,
    "deletable": true,
    "editable": true
   },
   "outputs": [
    {
     "data": {
      "text/plain": [
       "(1.480141e-06, 1.5756341e-06)"
      ]
     },
     "execution_count": 115,
     "metadata": {},
     "output_type": "execute_result"
    }
   ],
   "source": [
    "ker=rho*hsml**3\n",
    "ker.min(),ker.max()"
   ]
  },
  {
   "cell_type": "code",
   "execution_count": 109,
   "metadata": {
    "collapsed": false,
    "deletable": true,
    "editable": true
   },
   "outputs": [
    {
     "data": {
      "text/plain": [
       "(-376.90314, 343.4017, -353.85251, 394.67322, -1145.2565, 1193.5734)"
      ]
     },
     "execution_count": 109,
     "metadata": {},
     "output_type": "execute_result"
    }
   ],
   "source": [
    "x_s.min(),x_s.max(),y_s.min(),y_s.max(),z_s.min(),z_s.max()"
   ]
  },
  {
   "cell_type": "code",
   "execution_count": 5,
   "metadata": {
    "collapsed": false,
    "deletable": true,
    "editable": true
   },
   "outputs": [],
   "source": [
    "r=(x_s*x_s+y_s*y_s)**0.5"
   ]
  },
  {
   "cell_type": "code",
   "execution_count": 10,
   "metadata": {
    "collapsed": false,
    "deletable": true,
    "editable": true
   },
   "outputs": [],
   "source": [
    "phi=np.array([])\n",
    "lx=[0,9]\n",
    "ly=[0,9]\n",
    "lz=[0,3]\n",
    "\n",
    "xc1  =  x_s [(x_s>=lx[0])&(y_s>=ly[0])]#&(y_s<ly[1])&(z_s>=lz[0])&(z_s<lz[1])]\n",
    "yc1  =  y_s [(x_s>=lx[0])&(y_s>=ly[0])]#&(y_s<ly[1])&(z_s>=lz[0])&(z_s<lz[1])]    \n",
    "zc1  =  z_s [(x_s>=lx[0])&(y_s>=ly[0])]#&(y_s<ly[1])&(z_s>=lz[0])&(z_s<lz[1])]\n",
    "bzc1 =  bz_s[(x_s>=lx[0])&(y_s>=ly[0])]#&(y_s<ly[1])&(z_s>=lz[0])&(z_s<lz[1])]\n",
    "\n",
    "xc2=x_s[(x_s<0)&(y_s>0)]\n",
    "yc2=y_s[(x_s<0)&(y_s>0)]\n",
    "zc2=z_s[(x_s<0)&(y_s>0)] \n",
    "bzc2=bz_s[(x_s<0)&(y_s>0)] \n",
    "\n",
    "xc3=x_s[(x_s<0)&(y_s<0)]\n",
    "yc3=y_s[(x_s<0)&(y_s<0)]\n",
    "zc3=z_s[(x_s<0)&(y_s<0)] \n",
    "bzc3=bz_s[(x_s<0)&(y_s<0)] \n",
    "\n",
    "xc4=x_s[(x_s>0)&(y_s<0)]\n",
    "yc4=y_s[(x_s>0)&(y_s<0)]\n",
    "zc4=z_s[(x_s>0)&(y_s<0)]\n",
    "bzc4=bz_s[(x_s>0)&(y_s<0)]\n",
    "#phic2=np.arctan(x_s/y_s)"
   ]
  },
  {
   "cell_type": "code",
   "execution_count": 14,
   "metadata": {
    "collapsed": false,
    "deletable": true,
    "editable": true
   },
   "outputs": [],
   "source": [
    "phic1=np.array([])\n",
    "phic2=np.array([])\n",
    "phic3=np.array([])\n",
    "phic4=np.array([])\n",
    "\n",
    "for i in range(len(xc1)):\n",
    "    phic1=np.append(phic1, np.arctan(yc1[i]/xc1[i]))"
   ]
  },
  {
   "cell_type": "code",
   "execution_count": 15,
   "metadata": {
    "collapsed": false,
    "deletable": true,
    "editable": true
   },
   "outputs": [
    {
     "data": {
      "text/plain": [
       "array([ 1.56483996,  1.47496462,  1.4886688 , ...,  1.45441651,\n",
       "        1.07414544,  0.36060265])"
      ]
     },
     "execution_count": 15,
     "metadata": {},
     "output_type": "execute_result"
    }
   ],
   "source": [
    "phic1"
   ]
  },
  {
   "cell_type": "code",
   "execution_count": 1,
   "metadata": {
    "collapsed": false,
    "deletable": true,
    "editable": true
   },
   "outputs": [
    {
     "ename": "NameError",
     "evalue": "name 'np' is not defined",
     "output_type": "error",
     "traceback": [
      "\u001b[1;31m---------------------------------------------------------------------------\u001b[0m\n\u001b[1;31mNameError\u001b[0m                                 Traceback (most recent call last)",
      "\u001b[1;32m<ipython-input-1-605c388e1859>\u001b[0m in \u001b[0;36m<module>\u001b[1;34m()\u001b[0m\n\u001b[1;32m----> 1\u001b[1;33m \u001b[0mgradient\u001b[0m\u001b[1;33m=\u001b[0m\u001b[0mnp\u001b[0m\u001b[1;33m.\u001b[0m\u001b[0mgradient\u001b[0m\u001b[1;33m(\u001b[0m\u001b[0mbzc1\u001b[0m\u001b[1;33m)\u001b[0m\u001b[1;33m\u001b[0m\u001b[0m\n\u001b[0m\u001b[0;32m      2\u001b[0m \u001b[0mgr\u001b[0m\u001b[1;33m=\u001b[0m\u001b[0mgradient\u001b[0m\u001b[1;33m\u001b[0m\u001b[0m\n\u001b[0;32m      3\u001b[0m \u001b[0mgrmin\u001b[0m\u001b[1;33m=\u001b[0m \u001b[0mbzc1\u001b[0m\u001b[1;33m.\u001b[0m\u001b[0mmin\u001b[0m\u001b[1;33m(\u001b[0m\u001b[1;33m)\u001b[0m\u001b[1;33m/\u001b[0m\u001b[1;36m10\u001b[0m\u001b[1;33m\u001b[0m\u001b[0m\n\u001b[0;32m      4\u001b[0m \u001b[0mgrmax\u001b[0m\u001b[1;33m=\u001b[0m \u001b[0mbzc1\u001b[0m\u001b[1;33m.\u001b[0m\u001b[0mmax\u001b[0m\u001b[1;33m(\u001b[0m\u001b[1;33m)\u001b[0m\u001b[1;33m/\u001b[0m\u001b[1;36m100\u001b[0m\u001b[1;33m\u001b[0m\u001b[0m\n\u001b[0;32m      5\u001b[0m \u001b[0mplt\u001b[0m\u001b[1;33m.\u001b[0m\u001b[0mscatter\u001b[0m\u001b[1;33m(\u001b[0m\u001b[0mxc1\u001b[0m\u001b[1;33m,\u001b[0m\u001b[0mzc1\u001b[0m\u001b[1;33m,\u001b[0m\u001b[0mc\u001b[0m\u001b[1;33m=\u001b[0m\u001b[0mbzc1\u001b[0m\u001b[1;33m,\u001b[0m \u001b[0ms\u001b[0m\u001b[1;33m=\u001b[0m\u001b[1;36m10\u001b[0m\u001b[1;33m,\u001b[0m \u001b[0mvmin\u001b[0m\u001b[1;33m=\u001b[0m\u001b[0mgrmin\u001b[0m\u001b[1;33m,\u001b[0m \u001b[0mvmax\u001b[0m\u001b[1;33m=\u001b[0m\u001b[0mgrmax\u001b[0m\u001b[1;33m,\u001b[0m\u001b[0mmarker\u001b[0m\u001b[1;33m=\u001b[0m\u001b[1;34m'.'\u001b[0m\u001b[1;33m,\u001b[0m\u001b[0medgecolor\u001b[0m\u001b[1;33m=\u001b[0m\u001b[1;34m'none'\u001b[0m\u001b[1;33m)\u001b[0m\u001b[1;33m\u001b[0m\u001b[0m\n",
      "\u001b[1;31mNameError\u001b[0m: name 'np' is not defined"
     ]
    }
   ],
   "source": [
    "gradient=np.gradient(bzc1)\n",
    "gr=gradient\n",
    "grmin= bzc1.min()/10\n",
    "grmax= bzc1.max()/100\n",
    "plt.scatter(xc1,zc1,c=bzc1, s=10, vmin=grmin, vmax=grmax,marker='.',edgecolor='none')\n",
    "plt.ylim(zc1.min(),zc1.max())\n",
    "plt.xlim(xc1.min(),xc1.max())\n",
    "plt.colorbar()\n",
    "plt.show()"
   ]
  },
  {
   "cell_type": "code",
   "execution_count": 9,
   "metadata": {
    "collapsed": false,
    "deletable": true,
    "editable": true
   },
   "outputs": [
    {
     "data": {
      "image/png": "[encoded data removed]",
      "text/plain": [
       "<Figure size 432x288 with 1 Axes>"
      ]
     },
     "metadata": {},
     "output_type": "display_data"
    }
   ],
   "source": [
    "plt.scatter(xc1,yc1,marker='.',color='red')\n",
    "plt.scatter(xc2,yc2,marker='.',color='blue')\n",
    "plt.scatter(xc3,yc3,marker='.',color='yellow')\n",
    "plt.scatter(xc4,yc4,marker='.',color='pink')\n",
    "plt.show()"
   ]
  },
  {
   "cell_type": "code",
   "execution_count": 106,
   "metadata": {
    "collapsed": false,
    "deletable": true,
    "editable": true
   },
   "outputs": [
    {
     "ename": "SyntaxError",
     "evalue": "invalid syntax (<ipython-input-106-1c0fd6d22616>, line 3)",
     "output_type": "error",
     "traceback": [
      "\u001b[1;36m  File \u001b[1;32m\"<ipython-input-106-1c0fd6d22616>\"\u001b[1;36m, line \u001b[1;32m3\u001b[0m\n\u001b[1;33m    phic2=[(phi[(x_s<0)&(y_s>0))**-1]+np.pi/2\u001b[0m\n\u001b[1;37m                               ^\u001b[0m\n\u001b[1;31mSyntaxError\u001b[0m\u001b[1;31m:\u001b[0m invalid syntax\n"
     ]
    }
   ],
   "source": []
  },
  {
   "cell_type": "code",
   "execution_count": 104,
   "metadata": {
    "collapsed": false,
    "deletable": true,
    "editable": true
   },
   "outputs": [],
   "source": [
    "plt.scatter(xc1,phic1)\n",
    "plt.scatter(xc2,phic2,color='red')\n",
    "plt.show()"
   ]
  },
  {
   "cell_type": "code",
   "execution_count": 74,
   "metadata": {
    "collapsed": false,
    "deletable": true,
    "editable": true
   },
   "outputs": [
    {
     "data": {
      "text/plain": [
       "(-1.5707954, 1.5707923, -1.5707958, -2.1624146e-06, 1.5707963267948966)"
      ]
     },
     "execution_count": 74,
     "metadata": {},
     "output_type": "execute_result"
    }
   ],
   "source": [
    "phic1.min(),phic1.max(),phic2.min(),phic2.max(),np.pi/2"
   ]
  },
  {
   "cell_type": "code",
   "execution_count": 85,
   "metadata": {
    "collapsed": false,
    "deletable": true,
    "editable": true
   },
   "outputs": [],
   "source": [
    "xc1=x_s[(phic1>0)&(phic1<np.pi/2) &(x_s>0)]\n",
    "yc1=y_s[(phic1>0)&(phic1<np.pi/2) &(x_s>0)]\n",
    "xc2=x_s[(phic2>np.pi/2)&(phic2<np.pi)]\n",
    "yc2=y_s[(phic2>np.pi/2)&(phic2<np.pi)]"
   ]
  },
  {
   "cell_type": "code",
   "execution_count": 86,
   "metadata": {
    "collapsed": false,
    "deletable": true,
    "editable": true
   },
   "outputs": [
    {
     "data": {
      "text/plain": [
       "array([-146.07963562,  -73.56216431,  -32.03107071, ..., -117.69975281,\n",
       "        -87.89229584, -295.82525635], dtype=float32)"
      ]
     },
     "execution_count": 86,
     "metadata": {},
     "output_type": "execute_result"
    }
   ],
   "source": [
    "xc2"
   ]
  },
  {
   "cell_type": "code",
   "execution_count": 87,
   "metadata": {
    "collapsed": false,
    "deletable": true,
    "editable": true
   },
   "outputs": [],
   "source": [
    "#plt.scatter(xc1,yc1)\n",
    "plt.scatter(xc2,yc2)\n",
    "plt.show()"
   ]
  },
  {
   "cell_type": "code",
   "execution_count": 60,
   "metadata": {
    "collapsed": false,
    "deletable": true,
    "editable": true
   },
   "outputs": [],
   "source": [
    "#paths     =path_save+'IMSHOW_EINT/'\n",
    "#paths     =path_save+'IMSHOW_RHO/'\n",
    "paths     =path_save+'IMSHOW_VRMS/'\n",
    "filename ='prueba_'\n",
    "\n",
    "limx= [0,9]\n",
    "limy= [-1,1]\n",
    "limz= [-3,3]\n",
    "limrho=[-7,-0.6]\n",
    "liminte=[-4,1]\n",
    "limvrms=[-3,1]\n",
    "\n",
    "limp =limvrms\n",
    "\n",
    "plots_IMSHOW(snap,x0_s,z0_s,y0_s,np.log10(vrms0_s),limx,limz,limy,limp,1000,9,'vrms',paths,filename)"
   ]
  },
  {
   "cell_type": "code",
   "execution_count": null,
   "metadata": {
    "collapsed": false,
    "deletable": true,
    "editable": true
   },
   "outputs": [],
   "source": []
  },
  {
   "cell_type": "code",
   "execution_count": 27,
   "metadata": {
    "collapsed": false,
    "deletable": true,
    "editable": true
   },
   "outputs": [],
   "source": [
    "lrho=np.log10(rho0_s)\n",
    "r=rho0_s[lrho>-4.6]\n",
    "rhod=rho0_s[lrho>-4.6]\n",
    "xd=x0_s[lrho>-4.6]\n",
    "yd=y0_s[lrho>-4.6]\n",
    "zd=z0_s[lrho>-4.6]"
   ]
  },
  {
   "cell_type": "code",
   "execution_count": 28,
   "metadata": {
    "collapsed": false,
    "deletable": true,
    "editable": true
   },
   "outputs": [
    {
     "data": {
      "text/plain": [
       "(-1.9769077, 2.0406713)"
      ]
     },
     "execution_count": 28,
     "metadata": {},
     "output_type": "execute_result"
    }
   ],
   "source": [
    "zd.min(),zd.max()"
   ]
  },
  {
   "cell_type": "code",
   "execution_count": 26,
   "metadata": {
    "collapsed": false,
    "deletable": true,
    "editable": true
   },
   "outputs": [],
   "source": [
    "plt.scatter(xd,zd,s=0.0001,marker='.')\n",
    "plt.show()"
   ]
  },
  {
   "cell_type": "code",
   "execution_count": 260,
   "metadata": {
    "collapsed": false,
    "deletable": true,
    "editable": true
   },
   "outputs": [
    {
     "name": "stdout",
     "output_type": "stream",
     "text": [
      "snapshot_000\n",
      "save\n"
     ]
    }
   ],
   "source": [
    "sindex=[\"000\",\"005\", \"010\",\"050\",\"100\",\"110\",\"120\",\"130\",\"140\",\"150\",\"160\",\"170\",\"180\",\"190\",\"200\",\"250\",\"300\",\"350\"]\n",
    "\n",
    "for i in range(len(sindex)):\n",
    "    if i!=0:\n",
    "        continue\n",
    "    snap = 'snapshot_'+sindex[i]\n",
    "    print snap\n",
    "    ids0,x0,y0,z0,mass0,rho0,vel0,xbfld0,ybfld0,zbfld0,vrms0,hsml0,inte0 = reading_snap(path_snap,snap,0)\n",
    "    ids0_s,x0_s,y0_s,z0_s,mass0_s,rho0_s,vel0_s,xbfld0_s,ybfld0_s,zbfld0_s,vrms0_s,hsml0_s,inte0_s = sorting_by_ids(ids0,x0,y0,z0,mass0,rho0,vel0,xbfld0,ybfld0,zbfld0,vrms0,hsml0,inte0)\n",
    "    rc0 = cilindrical_system(x0_s,y0_s)\n",
    "\n",
    "    limx= [0,7]\n",
    "    limy= [-1,1]\n",
    "    limz= [-1,1]\n",
    "\n",
    "    xp=x0_s[(abs(x0_s)>limx[0])&(abs(x0_s)<limx[1])]\n",
    "    yp=y0_s[(abs(x0_s)>limx[0])&(abs(x0_s)<limx[1])]\n",
    "    zp=z0_s[(abs(x0_s)>limx[0])&(abs(x0_s)<limx[1])]\n",
    "    ep=inte0_s[(abs(x0_s)>limx[0])&(abs(x0_s)<limx[1])]\n",
    "    sig=vrms0_s[(abs(x0_s)>limx[0])&(abs(x0_s)<limx[1])]\n",
    "    rhp=rho0_s[(abs(x0_s)>limx[0])&(abs(x0_s)<limx[1])]\n",
    "\n",
    "    x   =  xp[(yp<limy[1]) & (yp>limy[0]) & (zp<limz[1]) & (zp>limz[0])] \n",
    "    y   =  zp[(yp<limy[1]) & (yp>limy[0]) & (zp<limz[1]) & (zp>limz[0])]\n",
    "    en  =  ep[(yp<limy[1]) & (yp>limy[0]) & (zp<limz[1]) & (zp>limz[0])]\n",
    "    si  = sig[(yp<limy[1]) & (yp>limy[0]) & (zp<limz[1]) & (zp>limz[0])]\n",
    "    rhop  = rhp[(yp<limy[1]) & (yp>limy[0]) & (zp<limz[1]) & (zp>limz[0])]\n",
    "\n",
    "    n = 100000\n",
    "    data_values = np.log10(rhop)\n",
    "    fig = plt.figure(figsize=(10,50))\n",
    "    ax = fig.add_subplot(111)\n",
    "    if 1==0:\n",
    "        # Normal scatter, like your example\n",
    "        p=ax.scatter(x, y, c=data_values, marker='.',s=8, edgecolor=\"NONE\")\n",
    "        ax.set_xlim(-limx[1],limx[1])\n",
    "        ax.set_ylim(limz[0],limz[1])\n",
    "        ax.set_xlabel(\"X\")\n",
    "        ax.set_ylabel(\"Z\")\n",
    "        divider = make_axes_locatable(ax)\n",
    "        cax = divider.append_axes(\"right\", size=\"5%\", pad=0.05)\n",
    "        cbar=plt.colorbar(p,cax=cax)\n",
    "        cbar.set_label(r\"$log$ $\\rho/(M_{\\odot}/kpc^{3})$\")\n",
    "        ax.set_title('SCATTER')\n",
    "        path=path_save+'SCATTER_RHO/z_ABS1/SCATT_RHOxz_'+sindex[i]+'.jpg'\n",
    "\n",
    "\n",
    "    if 1==1:\n",
    "        # Get the extent to scale the other plots in a similar fashion\n",
    "        xrng = [-limx[1],limx[1]] #list(ax1.get_xbound())\n",
    "        yrng = limz #list(ax1.get_ybound())\n",
    "        n_bins = 700.\n",
    "        # create the histogram\n",
    "        counts, xedge, yedge = np.histogram2d(x, y, bins=(n_bins,n_bins), range=[xrng,yrng])\n",
    "        sums, xedge, yedge = np.histogram2d(x, y, bins=(n_bins,n_bins), range=[xrng,yrng], weights=data_values)\n",
    "        # gives a warning when a bincount is zero\n",
    "        data_avg = sums / counts\n",
    "\n",
    "        p=ax.imshow(data_avg.T, origin='lower', interpolation='none', extent=xrng+yrng,vmin=-7, vmax=-0.6)\n",
    "        #ax.set_xlim(-limx[1],limx[1])\n",
    "        #ax.set_ylim(limz[0],limz[1])\n",
    "        ax.set_xlabel(\"X\")\n",
    "        ax.set_ylabel(\"Z\")\n",
    "        divider = make_axes_locatable(ax)\n",
    "        cax = divider.append_axes(\"right\", size=\"5%\", pad=0.05)\n",
    "        cbar=plt.colorbar(p,cax=cax)\n",
    "        cbar.set_label(r\"$log$ $\\rho/(M_{\\odot}/kpc^{3})$\")\n",
    "        ax.set_title('IMSHOW')\n",
    "        path=path_save+'IMSHOW_RHO/z_ABS1/IM_RHOxz_'+sindex[i]+'.jpg'\n",
    "\n",
    "\n",
    "    time=snap[9::]\n",
    "    ax.minorticks_on()\n",
    "    plt.text(0.9, 0.9,\"t=\"+time, ha='center', va='center', transform=ax.transAxes)\n",
    "\n",
    "    plt.savefig(path, dpi=100, bbox_inches='tight')\n",
    "    print \"save\"\n",
    "    #plt.show()"
   ]
  },
  {
   "cell_type": "code",
   "execution_count": 30,
   "metadata": {
    "collapsed": false,
    "deletable": true,
    "editable": true
   },
   "outputs": [
    {
     "name": "stdout",
     "output_type": "stream",
     "text": [
      "snapshot_000\n",
      "save\n"
     ]
    }
   ],
   "source": [
    "sindex=[\"000\",\"005\", \"010\",\"050\",\"100\",\"110\",\"120\",\"130\",\"140\",\"150\",\"160\",\"170\",\"180\",\"190\",\"200\",\"250\",\"300\",\"350\"]\n",
    "\n",
    "for sn in range(len(sindex)):\n",
    "    if sn!=0:\n",
    "        continue\n",
    "    snap = 'snapshot_'+sindex[sn]\n",
    "    print snap\n",
    "    \n",
    "    ids0,x0,y0,z0,mass0,rho0,vel0,xbfld0,ybfld0,zbfld0,vrms0,hsml0,inte0 = reading_snap(path_snap,snap,0)\n",
    "    ids0_s,x0_s,y0_s,z0_s,mass0_s,rho0_s,vel0_s,xbfld0_s,ybfld0_s,zbfld0_s,vrms0_s,hsml0_s,inte0_s = sorting_by_ids(ids0,x0,y0,z0,mass0,rho0,vel0,xbfld0,ybfld0,zbfld0,vrms0,hsml0,inte0)\n",
    "    rc0 = cilindrical_system(x0_s,y0_s)\n",
    "\n",
    "    limx= [0,9]\n",
    "    limy= [-1,1]\n",
    "    limz= [-3,3]\n",
    "\n",
    "    xp=x0_s[(abs(x0_s)>limx[0])&(abs(x0_s)<limx[1])]\n",
    "    yp=y0_s[(abs(x0_s)>limx[0])&(abs(x0_s)<limx[1])]\n",
    "    zp=z0_s[(abs(x0_s)>limx[0])&(abs(x0_s)<limx[1])]\n",
    "    ep=inte0_s[(abs(x0_s)>limx[0])&(abs(x0_s)<limx[1])]\n",
    "    sig=vrms0_s[(abs(x0_s)>limx[0])&(abs(x0_s)<limx[1])]\n",
    "    rhp=rho0_s[(abs(x0_s)>limx[0])&(abs(x0_s)<limx[1])]\n",
    "\n",
    "    x   =  xp[(yp<limy[1]) & (yp>limy[0]) & (zp<limz[1]) & (zp>limz[0])] \n",
    "    y   =  zp[(yp<limy[1]) & (yp>limy[0]) & (zp<limz[1]) & (zp>limz[0])]\n",
    "    en  =  ep[(yp<limy[1]) & (yp>limy[0]) & (zp<limz[1]) & (zp>limz[0])]\n",
    "    si  = sig[(yp<limy[1]) & (yp>limy[0]) & (zp<limz[1]) & (zp>limz[0])]\n",
    "    rhop  = rhp[(yp<limy[1]) & (yp>limy[0]) & (zp<limz[1]) & (zp>limz[0])]\n",
    "    \n",
    "    \n",
    "    fig = plt.figure(figsize=(20,10))\n",
    "    ax = fig.add_subplot(111)\n",
    "\n",
    "    n = 1000\n",
    "\n",
    "    [X, Y] = np.meshgrid(np.linspace(min(x),max(x),n), np.linspace(min(y),max(y),n))\n",
    "    Z      = griddata(x,y,np.log10(en),X,Y,interp='linear')\n",
    "    p      = ax.imshow(Z,vmin=-4, vmax=1)\n",
    "    c      = ax.contour(Z,levels=np.linspace(-4,1,9), cmap='gist_rainbow_r' )\n",
    "\n",
    "    locsx,labelsx = plt.xticks()\n",
    "    labelsx = [str(i*(2*limx[1]/float(n))-limx[1]) for i in locsx]\n",
    "    tick_locsx = locsx\n",
    "    tick_lblsx = labelsx\n",
    "    plt.xticks(tick_locsx[1:], tick_lblsx[1:])\n",
    "\n",
    "    locsy,labelsy = plt.yticks()\n",
    "    labelsy = [str(i*(2*limz[1]/float(n))-limz[1]) for i in locsy]\n",
    "    tick_locsy = locsy\n",
    "    tick_lblsy = labelsy\n",
    "    plt.yticks(tick_locsy[1:], tick_lblsy[1:])\n",
    "\n",
    "    divider = make_axes_locatable(ax)\n",
    "    cax = divider.append_axes(\"right\", size=\"5%\", pad=0.05)\n",
    "    #textbar = r\"$log$ $\\rho/(M_{\\odot}/kpc^{3})$\"\n",
    "    #textbar = \"$log$ $VRMS/(km/s)$\" \n",
    "    textbar = \"$log$  $U/(km/s)^{2}$\"\n",
    "    cbar = fig.colorbar(p,cax=cax, label=textbar,ticks=np.linspace(-4,1,9))\n",
    "    cbar.add_lines(c)\n",
    "    \n",
    "    time=snap[9::]\n",
    "    ax.minorticks_on()\n",
    "    plt.text(0.87, 0.92,\"t=\"+time, ha='center', va='center', transform=ax.transAxes,color=\"#ffa74e\")\n",
    "    \n",
    "    #path=path_save+'IMSHOW_RHO/z_ABS3/IM_RHOxz_'+sindex[sn]+'.jpg'\n",
    "    #path=path_save+'IMSHOW_VRMS/z_ABS3/IM_VRMSxz_'+sindex[sn]+'.jpg'\n",
    "    path=path_save+'IMSHOW_EINT/z_ABS3/IM_EINTxz_'+sindex[sn]+'.jpg'\n",
    "    #plt.savefig(path, dpi=100, bbox_inches='tight')\n",
    "    print \"save\"\n",
    "    plt.show()"
   ]
  },
  {
   "cell_type": "code",
   "execution_count": null,
   "metadata": {
    "collapsed": false,
    "deletable": true,
    "editable": true
   },
   "outputs": [],
   "source": [
    "limx= [0,9]\n",
    "limy= [-1,1]\n",
    "limz= [-3,3]\n",
    "\n",
    "xp=x0_s[(abs(x0_s)>limx[0])&(abs(x0_s)<limx[1])]\n",
    "yp=y0_s[(abs(x0_s)>limx[0])&(abs(x0_s)<limx[1])]\n",
    "zp=z0_s[(abs(x0_s)>limx[0])&(abs(x0_s)<limx[1])]\n",
    "ep=inte0_s[(abs(x0_s)>limx[0])&(abs(x0_s)<limx[1])]\n",
    "sig=vrms0_s[(abs(x0_s)>limx[0])&(abs(x0_s)<limx[1])]\n",
    "rhp=rho0_s[(abs(x0_s)>limx[0])&(abs(x0_s)<limx[1])]\n",
    "    \n",
    "x   =  xp[(yp<limy[1]) & (yp>limy[0]) & (zp<limz[1]) & (zp>limz[0])] \n",
    "y   =  zp[(yp<limy[1]) & (yp>limy[0]) & (zp<limz[1]) & (zp>limz[0])]\n",
    "en  =  ep[(yp<limy[1]) & (yp>limy[0]) & (zp<limz[1]) & (zp>limz[0])]\n",
    "si  = sig[(yp<limy[1]) & (yp>limy[0]) & (zp<limz[1]) & (zp>limz[0])]\n",
    "rhop  = rhp[(yp<limy[1]) & (yp>limy[0]) & (zp<limz[1]) & (zp>limz[0])]"
   ]
  },
  {
   "cell_type": "code",
   "execution_count": 61,
   "metadata": {
    "collapsed": false,
    "deletable": true,
    "editable": true
   },
   "outputs": [],
   "source": []
  },
  {
   "cell_type": "code",
   "execution_count": null,
   "metadata": {
    "collapsed": false,
    "deletable": true,
    "editable": true
   },
   "outputs": [],
   "source": []
  },
  {
   "cell_type": "code",
   "execution_count": null,
   "metadata": {
    "collapsed": false,
    "deletable": true,
    "editable": true
   },
   "outputs": [],
   "source": []
  },
  {
   "cell_type": "code",
   "execution_count": null,
   "metadata": {
    "collapsed": false,
    "deletable": true,
    "editable": true
   },
   "outputs": [],
   "source": []
  },
  {
   "cell_type": "code",
   "execution_count": 336,
   "metadata": {
    "collapsed": false,
    "deletable": true,
    "editable": true
   },
   "outputs": [],
   "source": [
    "x1         = x0_s\n",
    "x3         = y0_s\n",
    "x2         = z0_s\n",
    "uint       = inte0_s\n",
    "vrms       = vrms0_s\n",
    "rho        = rho0_s\n",
    "limx1      = [0,10]\n",
    "limx3      = [-1,1]\n",
    "limx2      = [-5,5]\n",
    "size       = [40,10]\n",
    "#labelsx1x2 = [\"X\",\"Y\"]\n",
    "labelsx1x2 = [\"X\",\"Z\"]\n",
    "labels123 = [\"$log$  $U/(km/s)^{2}$\",\n",
    "             \"$log$ $VRMS/(km/s)$\"  ,\n",
    "             r\"$log$ $\\rho/(M_{\\odot}/kpc^{3})$\"]\n",
    "\n",
    "#plot_U_VRMS_RHO(x1,x2,x3,uint,vrms,rho,limx1,limx2,limx3,size,labelsx1x2,labels123,1,path_save+'UVRHOxz_'+str(snap)+'.png')"
   ]
  },
  {
   "cell_type": "code",
   "execution_count": 170,
   "metadata": {
    "collapsed": false,
    "deletable": true,
    "editable": true
   },
   "outputs": [
    {
     "data": {
      "text/plain": [
       "(-3.4214079, -2.4605851, -0.35124958, -0.60802144)"
      ]
     },
     "execution_count": 170,
     "metadata": {},
     "output_type": "execute_result"
    }
   ],
   "source": [
    "np.log10(en).min(),np.log10(si).min(),np.log10(en).max(),np.log10(si).max()"
   ]
  },
  {
   "cell_type": "code",
   "execution_count": 58,
   "metadata": {
    "collapsed": false,
    "deletable": true,
    "editable": true
   },
   "outputs": [
    {
     "data": {
      "text/plain": [
       "[-5.0, 5.0]"
      ]
     },
     "execution_count": 58,
     "metadata": {},
     "output_type": "execute_result"
    }
   ],
   "source": [
    "yrng "
   ]
  },
  {
   "cell_type": "code",
   "execution_count": 55,
   "metadata": {
    "collapsed": false,
    "deletable": true,
    "editable": true
   },
   "outputs": [],
   "source": [
    "#discks\n",
    "xd,yd,zd,xc,yc,zc       = initial_conditions(x0_s,y0_s,z0_s,rc0, 2.0, 7.0, 0.0, 2.0, -1.0, 1.0)\n",
    "xd2,yd2,zd2,xc2,yc2,zc2 = initial_conditions(x0_s,y0_s,z0_s,rc0, 2.0, 10.0, 10.0, 2.0, -8.0, 8.0)"
   ]
  },
  {
   "cell_type": "code",
   "execution_count": 259,
   "metadata": {
    "collapsed": false,
    "deletable": true,
    "editable": true
   },
   "outputs": [
    {
     "ename": "NameError",
     "evalue": "name 'zd' is not defined",
     "output_type": "error",
     "traceback": [
      "\u001b[1;31m---------------------------------------------------------------------------\u001b[0m\n\u001b[1;31mNameError\u001b[0m                                 Traceback (most recent call last)",
      "\u001b[1;32m<ipython-input-259-ab81cf2aaf8e>\u001b[0m in \u001b[0;36m<module>\u001b[1;34m()\u001b[0m\n\u001b[0;32m     19\u001b[0m \u001b[0mlrho1\u001b[0m\u001b[1;33m=\u001b[0m \u001b[0mnp\u001b[0m\u001b[1;33m.\u001b[0m\u001b[0mlog10\u001b[0m\u001b[1;33m(\u001b[0m\u001b[0mrho0_s\u001b[0m\u001b[1;33m[\u001b[0m\u001b[1;33m(\u001b[0m\u001b[0mrc0\u001b[0m\u001b[1;33m<\u001b[0m\u001b[1;36m7.0\u001b[0m\u001b[1;33m)\u001b[0m\u001b[1;33m&\u001b[0m\u001b[1;33m(\u001b[0m\u001b[0mz0_s\u001b[0m\u001b[1;33m<\u001b[0m\u001b[1;36m1.0\u001b[0m\u001b[1;33m)\u001b[0m\u001b[1;33m&\u001b[0m\u001b[1;33m(\u001b[0m\u001b[0mrc0\u001b[0m\u001b[1;33m>\u001b[0m\u001b[1;36m2.0\u001b[0m\u001b[1;33m)\u001b[0m\u001b[1;33m&\u001b[0m\u001b[1;33m(\u001b[0m\u001b[0mz0_s\u001b[0m\u001b[1;33m>\u001b[0m\u001b[1;36m0.0\u001b[0m\u001b[1;33m)\u001b[0m\u001b[1;33m]\u001b[0m\u001b[1;33m)\u001b[0m\u001b[1;33m\u001b[0m\u001b[0m\n\u001b[0;32m     20\u001b[0m \u001b[0mlrho2\u001b[0m\u001b[1;33m=\u001b[0m \u001b[0mnp\u001b[0m\u001b[1;33m.\u001b[0m\u001b[0mlog10\u001b[0m\u001b[1;33m(\u001b[0m\u001b[0mrho0_s\u001b[0m\u001b[1;33m[\u001b[0m\u001b[1;33m(\u001b[0m\u001b[0mrc0\u001b[0m\u001b[1;33m<\u001b[0m\u001b[1;36m7.0\u001b[0m\u001b[1;33m)\u001b[0m\u001b[1;33m&\u001b[0m\u001b[1;33m(\u001b[0m\u001b[0mz0_s\u001b[0m\u001b[1;33m<\u001b[0m\u001b[1;36m0\u001b[0m\u001b[1;33m)\u001b[0m\u001b[1;33m&\u001b[0m\u001b[1;33m(\u001b[0m\u001b[0mrc0\u001b[0m\u001b[1;33m>\u001b[0m\u001b[1;36m2.0\u001b[0m\u001b[1;33m)\u001b[0m\u001b[1;33m&\u001b[0m\u001b[1;33m(\u001b[0m\u001b[0mz0_s\u001b[0m\u001b[1;33m>\u001b[0m\u001b[1;33m-\u001b[0m\u001b[1;36m1\u001b[0m\u001b[1;33m)\u001b[0m\u001b[1;33m]\u001b[0m\u001b[1;33m)\u001b[0m\u001b[1;33m\u001b[0m\u001b[0m\n\u001b[1;32m---> 21\u001b[1;33m \u001b[0max1\u001b[0m\u001b[1;33m.\u001b[0m\u001b[0mscatter\u001b[0m\u001b[1;33m(\u001b[0m\u001b[0mzd\u001b[0m\u001b[1;33m[\u001b[0m\u001b[0mzd\u001b[0m\u001b[1;33m>\u001b[0m\u001b[1;36m0.0\u001b[0m\u001b[1;33m]\u001b[0m\u001b[1;33m,\u001b[0m\u001b[0mlrho1\u001b[0m\u001b[1;33m,\u001b[0m\u001b[0ms\u001b[0m\u001b[1;33m=\u001b[0m\u001b[1;36m0.01\u001b[0m\u001b[1;33m,\u001b[0m\u001b[0mlabel\u001b[0m\u001b[1;33m=\u001b[0m\u001b[1;34m\"z$>$0\"\u001b[0m\u001b[1;33m)\u001b[0m\u001b[1;33m\u001b[0m\u001b[0m\n\u001b[0m\u001b[0;32m     22\u001b[0m \u001b[0max1\u001b[0m\u001b[1;33m.\u001b[0m\u001b[0mscatter\u001b[0m\u001b[1;33m(\u001b[0m\u001b[1;33m-\u001b[0m\u001b[0mzd\u001b[0m\u001b[1;33m[\u001b[0m\u001b[0mzd\u001b[0m\u001b[1;33m<\u001b[0m\u001b[1;36m0.0\u001b[0m\u001b[1;33m]\u001b[0m\u001b[1;33m,\u001b[0m\u001b[0mlrho2\u001b[0m\u001b[1;33m,\u001b[0m\u001b[0ms\u001b[0m\u001b[1;33m=\u001b[0m\u001b[1;36m0.01\u001b[0m\u001b[1;33m,\u001b[0m\u001b[0mcolor\u001b[0m\u001b[1;33m=\u001b[0m\u001b[1;34m\"red\"\u001b[0m\u001b[1;33m,\u001b[0m\u001b[0mlabel\u001b[0m\u001b[1;33m=\u001b[0m\u001b[1;34m\"z$<$0\"\u001b[0m\u001b[1;33m)\u001b[0m\u001b[1;33m\u001b[0m\u001b[0m\n\u001b[0;32m     23\u001b[0m \u001b[1;33m\u001b[0m\u001b[0m\n",
      "\u001b[1;31mNameError\u001b[0m: name 'zd' is not defined"
     ]
    }
   ],
   "source": [
    "#preview of hight density zone\n",
    "if 1==0:\n",
    "    fig = plt.figure(figsize=(8,8))\n",
    "    ax1 = fig.add_subplot(111)\n",
    "    lrho1= np.log10(rho0_s[(rc0<7.0)&(z0_s<1.0)&(rc0>2.0)&(z0_s>0.0)])\n",
    "    lrho2= np.log10(rho0_s[(rc0<7.0)&(z0_s<0)&(rc0>2.0)&(z0_s>-1)])\n",
    "    ax1.scatter(zd[zd>0.0],lrho1,s=0.01,label=\"z$>$0\")\n",
    "    ax1.scatter(zd[zd>0.0],lrho1,s=0.00005,label=\"z$>$0\",color=\"lightgray\")   \n",
    "    ax1.set_xlim(0,1)\n",
    "    ax1.set_ylim(-5,-0.8)\n",
    "    ax1.minorticks_on()\n",
    "    plt.xlabel(\"Z\")\n",
    "    plt.ylabel(r\"$\\rho$\")\n",
    "    plt.show()\n",
    "\n",
    "#density plot\n",
    "fig = plt.figure(figsize=(8,8))\n",
    "ax1 = fig.add_subplot(111)\n",
    "lrho1= np.log10(rho0_s[(rc0<7.0)&(z0_s<1.0)&(rc0>2.0)&(z0_s>0.0)])\n",
    "lrho2= np.log10(rho0_s[(rc0<7.0)&(z0_s<0)&(rc0>2.0)&(z0_s>-1)])\n",
    "ax1.scatter(zd[zd>0.0],lrho1,s=0.01,label=\"z$>$0\")\n",
    "ax1.scatter(-zd[zd<0.0],lrho2,s=0.01,color=\"red\",label=\"z$<$0\")\n",
    "\n",
    "ax1.set_xlim(0,1)\n",
    "#ax1.set_ylim(np.min([np.min(lrho1),np.min(lrho2)]),np.max([np.max(lrho1),np.max(lrho2)]))\n",
    "ax1.set_ylim(-5,0)\n",
    "ax1.minorticks_on()\n",
    "plt.xlabel(\"Z\")\n",
    "plt.ylabel(r\"$\\rho$\")\n",
    "#plt.savefig(path_save+'density'+str(snap)+'.png', dpi=100, bbox_inches='tight')\n",
    "plt.show()"
   ]
  },
  {
   "cell_type": "code",
   "execution_count": null,
   "metadata": {
    "collapsed": false,
    "deletable": true,
    "editable": true
   },
   "outputs": [],
   "source": [
    "particles_plot(r0,np.log10(rho0_s),rc0,5,0,20,\"Z\",r\"$\\rho$\",[0,5],[-5,0],0.1)"
   ]
  },
  {
   "cell_type": "code",
   "execution_count": 23,
   "metadata": {
    "collapsed": false,
    "deletable": true,
    "editable": true
   },
   "outputs": [],
   "source": [
    "particles_plot(z0_s,np.log10(rho0_s),rc0,5,0,20,\"Z\",r\"$\\rho$\",[0,5],[-5,0],0.1)\n",
    "#particles_plot(rc0,z0_s,rc0,5,2,5,\"R$_{proy}$\",\"Z\",[2,4],[0,3],0.02)"
   ]
  },
  {
   "cell_type": "code",
   "execution_count": 13,
   "metadata": {
    "collapsed": false,
    "deletable": true,
    "editable": true
   },
   "outputs": [
    {
     "name": "stdout",
     "output_type": "stream",
     "text": [
      "0.125\n"
     ]
    }
   ],
   "source": [
    "#rd=(xd*xd+yd*yd)**0.5\n",
    "rbin,medz,meanz = st.statistics(40,xd[(xd>0)&(zd>0)],zd[(xd>0)&(zd>0)],2,7)\n",
    "profile_plot(rbin,medz,meanz,\"R$_{proy}$\",\"Z\",[2,7],[0,0.5],4)"
   ]
  },
  {
   "cell_type": "code",
   "execution_count": 16,
   "metadata": {
    "collapsed": false,
    "deletable": true,
    "editable": true
   },
   "outputs": [
    {
     "name": "stdout",
     "output_type": "stream",
     "text": [
      "0.2\n"
     ]
    }
   ],
   "source": [
    "rbin,medz,meanz = st.statistics(40,x0_s[(x0_s>2)&(z0_s>0)&(z0_s<1)],z0_s[(x0_s>2)&(z0_s>0)&(z0_s<1)],2,10)\n",
    "profile_plot(rbin,medz,meanz,\"R$_{proy}$\",\"Z\",[2,10],[0,0.5],4)"
   ]
  },
  {
   "cell_type": "code",
   "execution_count": 15,
   "metadata": {
    "collapsed": false,
    "deletable": true,
    "editable": true
   },
   "outputs": [
    {
     "name": "stdout",
     "output_type": "stream",
     "text": [
      "0.025\n"
     ]
    }
   ],
   "source": [
    "zbin,medrho,meanrho = st.statistics(40,zd[zd>0.0],lrho1,0.0,1.0)\n",
    "profile_plot(zbin,medrho,meanrho,\"Z\",r\"$\\widetilde{\\rho}$\",[0,1],[-4.5,-1.7],4)"
   ]
  },
  {
   "cell_type": "code",
   "execution_count": 178,
   "metadata": {
    "collapsed": false,
    "deletable": true,
    "editable": true
   },
   "outputs": [],
   "source": [
    "fig = plt.figure(figsize=(8,8))\n",
    "plt.subplots_adjust(hspace = .001)\n",
    "ax1 = fig.add_subplot(311)\n",
    "ax1.scatter(xd ,zd ,color=\"red\",lw=0.1,marker='.',s=0.00005)\n",
    "ax1.set_xlim(-8,8)\n",
    "ax1.set_ylim(-1,1)\n",
    "xticks1,yticks1 = ax1.xaxis.get_major_ticks(),ax1.yaxis.get_major_ticks()      \n",
    "visible_ticks(xticks1,yticks1)       \n",
    "        \n",
    "ax2 = fig.add_subplot(312)\n",
    "ax2.scatter(xd2,zd2,color='black',marker='.',s=0.00005)\n",
    "ax2.set_xlim(-8,8)\n",
    "ax2.set_ylim(-1,1)\n",
    "xticks2,yticks2 = ax2.xaxis.get_major_ticks(),ax2.yaxis.get_major_ticks()      \n",
    "visible_ticks(xticks2,yticks2)    \n",
    "plt.ylabel(\"Z\")\n",
    "\n",
    "ax3 = fig.add_subplot(313)\n",
    "ax3.scatter(xd2,zd2,color=\"grey\" ,marker='.',s=1)\n",
    "ax3.scatter(xd2,zd2,color='black',marker='.',s=0.00005)\n",
    "ax3.scatter(xd ,zd ,color=\"red\"  ,marker='.',s=0.00005)\n",
    "ax3.set_xlim(-8,8)\n",
    "ax3.set_ylim(-8,8)\n",
    "xticks3,yticks3 = ax3.xaxis.get_major_ticks(),ax3.yaxis.get_major_ticks()      \n",
    "visible_ticks(xticks3,yticks3)    \n",
    "\n",
    "ax1.minorticks_on()\n",
    "ax2.minorticks_on()\n",
    "ax3.minorticks_on()\n",
    "\n",
    "plt.xlabel(\"X\")\n",
    "\n",
    "#plt.savefig(path_save+'condiciones_iniciales2.png', dpi=100, bbox_inches='tight')\n",
    "\n",
    "plt.show()"
   ]
  },
  {
   "cell_type": "code",
   "execution_count": 5,
   "metadata": {
    "collapsed": false,
    "deletable": true,
    "editable": true
   },
   "outputs": [],
   "source": [
    "#parameters\n",
    "height = 0.01\n",
    "rmin   = 0\n",
    "rmax   = 20"
   ]
  },
  {
   "cell_type": "code",
   "execution_count": 100,
   "metadata": {
    "collapsed": false,
    "deletable": true,
    "editable": true
   },
   "outputs": [],
   "source": [
    "#distances\n",
    "r0=np.array([(xx**2+yy**2+zz**2)**0.5 for xx,yy,zz in zip(x0_s,y0_s,z0_s)])"
   ]
  },
  {
   "cell_type": "code",
   "execution_count": 101,
   "metadata": {
    "collapsed": false,
    "deletable": true,
    "editable": true
   },
   "outputs": [],
   "source": [
    "#variables subgroup by distance condition\n",
    "sgx,sgy,sgz,sgrho,sgids,sgr = subgroup(ids0_s,x0_s,y0_s,z0_s,rho0_s,r0,rmin,rmax)"
   ]
  },
  {
   "cell_type": "code",
   "execution_count": 196,
   "metadata": {
    "collapsed": false,
    "deletable": true,
    "editable": true
   },
   "outputs": [
    {
     "data": {
      "text/plain": [
       "\"h = height\\nh2 = height-0.97*height\\nsgxz = sgx[(sgz < h) & (sgz > -h)]\\nsgyz = sgy[(sgz<h) & (sgz>-h)]\\nsgxz2 = sgx[(sgz < h2) & (sgz > -h2)]\\nsgyz2 = sgy[(sgz<h2) & (sgz>-h2)]\\nplt.scatter(sgxz,sgyz,s=0.1)\\nplt.scatter(sgxz2,sgyz2,s=0.1,color='red')\\nplt.xlim(np.min(sgxz),np.max(sgxz))\\nplt.ylim(np.min(sgyz),np.max(sgyz))\\nplt.show()\""
      ]
     },
     "execution_count": 196,
     "metadata": {},
     "output_type": "execute_result"
    }
   ],
   "source": [
    "#xy plot\n",
    "'''\n",
    "h = height\n",
    "h2 = height-0.97*height\n",
    "sgxz = sgx[(sgz < h) & (sgz > -h)]\n",
    "sgyz = sgy[(sgz<h) & (sgz>-h)]\n",
    "sgxz2 = sgx[(sgz < h2) & (sgz > -h2)]\n",
    "sgyz2 = sgy[(sgz<h2) & (sgz>-h2)]\n",
    "plt.scatter(sgxz,sgyz,s=0.1)\n",
    "plt.scatter(sgxz2,sgyz2,s=0.1,color='red')\n",
    "plt.xlim(np.min(sgxz),np.max(sgxz))\n",
    "plt.ylim(np.min(sgyz),np.max(sgyz))\n",
    "plt.show()'''"
   ]
  },
  {
   "cell_type": "code",
   "execution_count": 104,
   "metadata": {
    "collapsed": false,
    "deletable": true,
    "editable": true
   },
   "outputs": [],
   "source": [
    "#xz plot\n",
    "'''\n",
    "h = height+100\n",
    "h2 = height-0.97*height\n",
    "sgxz = sgx[(sgz<h) & (sgz>-h) & (sgx<5) & (sgx>-5) & (sgy<0.1) & (sgy>-0.1)]\n",
    "sgzz = sgz[(sgz<h) & (sgz>-h) & (sgx<5) & (sgx>-5) & (sgy<0.1) & (sgy>-0.1)]\n",
    "#sgxz2 = sgx[(sgz < h2) & (sgz > -h2)]\n",
    "#sgzz2 = sgz[(sgz<h2) & (sgz>-h2)]\n",
    "plt.scatter(sgxz,sgzz,s=0.1)\n",
    "#plt.scatter(sgxz2,sgzz2,s=0.1,color='red')\n",
    "#plt.xlim(np.min(sgxz),np.max(sgxz))\n",
    "#plt.ylim(np.min(sgzz),np.max(sgzz))\n",
    "plt.show()'''"
   ]
  },
  {
   "cell_type": "code",
   "execution_count": 189,
   "metadata": {
    "collapsed": false,
    "deletable": true,
    "editable": true
   },
   "outputs": [],
   "source": [
    "fig = plt.figure(figsize=(21,7))\n",
    "\n",
    "#plot 1--------------------------------------------------------------------------------------------------------------------------------\n",
    "ax1 = fig.add_subplot(131)\n",
    "plt.scatter(xd,yd,s=0.0001,color='green')\n",
    "plt.scatter(xc,yc,s=0.0001,color='black')\n",
    "ax1.set_xlabel('X')\n",
    "ax1.set_ylabel('Y')\n",
    "ax1.set_xlim(-7,7)\n",
    "ax1.set_ylim(-7,7)\n",
    "\n",
    "xticks1 = ax1.xaxis.get_major_ticks()\n",
    "for i in range(len(xticks1)):\n",
    "    if i%2==0:\n",
    "        xticks1[i].label1.set_visible(False)\n",
    "\n",
    "yticks1 = ax1.yaxis.get_major_ticks()\n",
    "for i in range(len(yticks1)):\n",
    "    if i%2==0:\n",
    "        yticks1[i].label1.set_visible(False)\n",
    "\n",
    "ax1.minorticks_on()\n",
    "\n",
    "#plot 2--------------------------------------------------------------------------------------------------------------------------------\n",
    "ax2 = fig.add_subplot(132)\n",
    "plt.scatter(yd,zd,s=0.0001,color='green')\n",
    "plt.scatter(yc,zc,s=0.0001,color='black')\n",
    "ax2.set_xlabel('Y')\n",
    "ax2.set_ylabel('Z')\n",
    "ax2.yaxis.set_label_coords(-0.1, 0.5)\n",
    "ax2.set_xlim(-7,7)\n",
    "ax2.set_ylim(-1,1)\n",
    "\n",
    "\n",
    "xticks2 = ax2.xaxis.get_major_ticks()\n",
    "for i in range(len(xticks2)):\n",
    "    if i%2==0:\n",
    "        xticks2[i].label1.set_visible(False)\n",
    "        \n",
    "yticks2 = ax2.yaxis.get_major_ticks()\n",
    "for i in range(len(yticks2)):\n",
    "    if i%2==0:\n",
    "        yticks2[i].label1.set_visible(False)\n",
    "        \n",
    "ax2.minorticks_on()\n",
    "\n",
    "\n",
    "#plot 2--------------------------------------------------------------------------------------------------------------------------------\n",
    "ax3 = fig.add_subplot(133)\n",
    "plt.scatter(yd[(xd<3)&(xd>2)],zd[(xd<3)&(xd>2)],s=0.0001,color='green')\n",
    "plt.scatter(yc[(xc<0.0)&(xc>1)],zc[(xc<0.0)&(xc>1)],s=0.0001,color='black')\n",
    "ax3.set_xlabel('Y')\n",
    "ax3.set_ylabel('Z')\n",
    "ax3.yaxis.set_label_coords(-0.1, 0.5)\n",
    "ax3.set_xlim(-7,7)\n",
    "ax3.set_ylim(-1,1)\n",
    "\n",
    "\n",
    "xticks3 = ax3.xaxis.get_major_ticks()\n",
    "for i in range(len(xticks3)):\n",
    "    if i%2==0:\n",
    "        xticks3[i].label1.set_visible(False)\n",
    "        \n",
    "yticks3 = ax3.yaxis.get_major_ticks()\n",
    "for i in range(len(yticks3)):\n",
    "    if i%2==0:\n",
    "        yticks3[i].label1.set_visible(False)\n",
    "        \n",
    "ax3.minorticks_on()\n",
    "\n",
    "\n",
    "#ax2.legend(loc='upper right', frameon=False,markerscale=10.,ncol=1, scatterpoints=1,borderpad=0.1, labelspacing=0.2, handletextpad=-0.1)\n",
    "\n",
    "#plt.savefig(path_save+'anillo3.pdf', format='pdf', dpi=100, bbox_inches='tight')\n",
    "plt.savefig(path_save+'condiciones_iniciales.png', dpi=100, bbox_inches='tight')\n",
    "#plt.savefig('particulas.eps',  bbox_inches='tight')\n",
    "\n",
    "plt.show()"
   ]
  },
  {
   "cell_type": "code",
   "execution_count": 63,
   "metadata": {
    "collapsed": false,
    "deletable": true,
    "editable": true
   },
   "outputs": [
    {
     "ename": "KeyboardInterrupt",
     "evalue": "",
     "output_type": "error",
     "traceback": [
      "\u001b[1;31m---------------------------------------------------------------------------\u001b[0m\n\u001b[1;31mKeyboardInterrupt\u001b[0m                         Traceback (most recent call last)",
      "\u001b[1;32m<ipython-input-63-00ff9efec35c>\u001b[0m in \u001b[0;36m<module>\u001b[1;34m()\u001b[0m\n\u001b[0;32m     18\u001b[0m         \u001b[1;32mcontinue\u001b[0m\u001b[1;33m\u001b[0m\u001b[0m\n\u001b[0;32m     19\u001b[0m     \u001b[1;32mif\u001b[0m \u001b[0midsort10\u001b[0m\u001b[1;33m[\u001b[0m\u001b[0mi\u001b[0m\u001b[1;33m]\u001b[0m \u001b[1;33m==\u001b[0m \u001b[0midsann0\u001b[0m\u001b[1;33m[\u001b[0m\u001b[0mp\u001b[0m\u001b[1;33m]\u001b[0m\u001b[1;33m:\u001b[0m\u001b[1;33m\u001b[0m\u001b[0m\n\u001b[1;32m---> 20\u001b[1;33m         \u001b[0mxann10\u001b[0m\u001b[1;33m=\u001b[0m\u001b[0mnp\u001b[0m\u001b[1;33m.\u001b[0m\u001b[0mappend\u001b[0m\u001b[1;33m(\u001b[0m\u001b[0mxann10\u001b[0m\u001b[1;33m,\u001b[0m\u001b[0mxid10\u001b[0m\u001b[1;33m[\u001b[0m\u001b[0mi\u001b[0m\u001b[1;33m]\u001b[0m\u001b[1;33m)\u001b[0m\u001b[1;33m\u001b[0m\u001b[0m\n\u001b[0m\u001b[0;32m     21\u001b[0m         \u001b[0myann10\u001b[0m\u001b[1;33m=\u001b[0m\u001b[0mnp\u001b[0m\u001b[1;33m.\u001b[0m\u001b[0mappend\u001b[0m\u001b[1;33m(\u001b[0m\u001b[0myann10\u001b[0m\u001b[1;33m,\u001b[0m\u001b[0myid10\u001b[0m\u001b[1;33m[\u001b[0m\u001b[0mi\u001b[0m\u001b[1;33m]\u001b[0m\u001b[1;33m)\u001b[0m\u001b[1;33m\u001b[0m\u001b[0m\n\u001b[0;32m     22\u001b[0m         \u001b[0mzann10\u001b[0m\u001b[1;33m=\u001b[0m\u001b[0mnp\u001b[0m\u001b[1;33m.\u001b[0m\u001b[0mappend\u001b[0m\u001b[1;33m(\u001b[0m\u001b[0mzann10\u001b[0m\u001b[1;33m,\u001b[0m\u001b[0mzid10\u001b[0m\u001b[1;33m[\u001b[0m\u001b[0mi\u001b[0m\u001b[1;33m]\u001b[0m\u001b[1;33m)\u001b[0m\u001b[1;33m\u001b[0m\u001b[0m\n",
      "\u001b[1;32m/usr/lib64/python2.7/site-packages/numpy/lib/function_base.pyc\u001b[0m in \u001b[0;36mappend\u001b[1;34m(arr, values, axis)\u001b[0m\n\u001b[0;32m   4584\u001b[0m         \u001b[0mvalues\u001b[0m \u001b[1;33m=\u001b[0m \u001b[0mravel\u001b[0m\u001b[1;33m(\u001b[0m\u001b[0mvalues\u001b[0m\u001b[1;33m)\u001b[0m\u001b[1;33m\u001b[0m\u001b[0m\n\u001b[0;32m   4585\u001b[0m         \u001b[0maxis\u001b[0m \u001b[1;33m=\u001b[0m \u001b[0marr\u001b[0m\u001b[1;33m.\u001b[0m\u001b[0mndim\u001b[0m\u001b[1;33m-\u001b[0m\u001b[1;36m1\u001b[0m\u001b[1;33m\u001b[0m\u001b[0m\n\u001b[1;32m-> 4586\u001b[1;33m     \u001b[1;32mreturn\u001b[0m \u001b[0mconcatenate\u001b[0m\u001b[1;33m(\u001b[0m\u001b[1;33m(\u001b[0m\u001b[0marr\u001b[0m\u001b[1;33m,\u001b[0m \u001b[0mvalues\u001b[0m\u001b[1;33m)\u001b[0m\u001b[1;33m,\u001b[0m \u001b[0maxis\u001b[0m\u001b[1;33m=\u001b[0m\u001b[0maxis\u001b[0m\u001b[1;33m)\u001b[0m\u001b[1;33m\u001b[0m\u001b[0m\n\u001b[0m\u001b[0;32m   4587\u001b[0m \u001b[1;33m\u001b[0m\u001b[0m\n",
      "\u001b[1;31mKeyboardInterrupt\u001b[0m: "
     ]
    }
   ],
   "source": [
    "snap10=\"snapshot_010\"\n",
    "pos10  = G.read_block(path_snap+snap10,\"POS\",parttype=0)\n",
    "mass10 = G.read_block(path_snap+snap10,\"MASS\",parttype=0)\n",
    "ids10  = G.read_block(path_snap+snap10,\"ID\",parttype=0)\n",
    "x10=[row[0] for row in pos10]\n",
    "y10=[row[1] for row in pos10]\n",
    "z10=[row[2] for row in pos10]\n",
    "idsort10,xid10,yid10,zid10  = zip(*sorted(zip(ids10,x10,y10,z10)))\n",
    "xann10=np.array([])\n",
    "yann10=np.array([])\n",
    "zann10=np.array([])\n",
    "xann10=np.array([])\n",
    "yann10=np.array([])\n",
    "zann10=np.array([])\n",
    "p=0\n",
    "for i in range(len(idsort10)):\n",
    "    if p>=len(idsann0):\n",
    "        continue\n",
    "    if idsort10[i] == idsann0[p]:\n",
    "        xann10=np.append(xann10,xid10[i])\n",
    "        yann10=np.append(yann10,yid10[i])\n",
    "        zann10=np.append(zann10,zid10[i])        \n",
    "        p=p+1"
   ]
  },
  {
   "cell_type": "code",
   "execution_count": 33,
   "metadata": {
    "collapsed": false,
    "deletable": true,
    "editable": true
   },
   "outputs": [],
   "source": [
    "snap100=\"snapshot_100\"\n",
    "pos100  = G.read_block(path_snap+snap100,\"POS\",parttype=0)\n",
    "mass100 = G.read_block(path_snap+snap100,\"MASS\",parttype=0)\n",
    "ids100  = G.read_block(path_snap+snap100,\"ID\",parttype=0)\n",
    "x100=[row[0] for row in pos100]\n",
    "y100=[row[1] for row in pos100]\n",
    "z100=[row[2] for row in pos100]\n",
    "idsort100,xid100,yid100,zid100  = zip(*sorted(zip(ids100,x100,y100,z100)))\n",
    "xann100=np.array([])\n",
    "yann100=np.array([])\n",
    "zann100=np.array([])\n",
    "p=0\n",
    "for i in range(len(idsort100)):\n",
    "    if p>=len(idsann0):\n",
    "        continue\n",
    "    if idsort100[i] == idsann0[p]:\n",
    "        xann100=np.append(xann100,xid100[i])\n",
    "        yann100=np.append(yann100,yid100[i])\n",
    "        zann100=np.append(zann100,zid100[i])        \n",
    "        p=p+1"
   ]
  },
  {
   "cell_type": "code",
   "execution_count": 36,
   "metadata": {
    "collapsed": false,
    "deletable": true,
    "editable": true
   },
   "outputs": [],
   "source": [
    "snap150=\"snapshot_150\"\n",
    "pos150  = G.read_block(path_snap+snap150,\"POS\",parttype=0)\n",
    "mass150 = G.read_block(path_snap+snap150,\"MASS\",parttype=0)\n",
    "ids150  = G.read_block(path_snap+snap150,\"ID\",parttype=0)\n",
    "x150=[row[0] for row in pos150]\n",
    "y150=[row[1] for row in pos150]\n",
    "z150=[row[2] for row in pos150]\n",
    "idsort150,xid150,yid150,zid150  = zip(*sorted(zip(ids150,x150,y150,z150)))\n",
    "xann150=np.array([])\n",
    "yann150=np.array([])\n",
    "zann150=np.array([])\n",
    "p=0\n",
    "for i in range(len(idsort150)):\n",
    "    if p>=len(idsann0):\n",
    "        continue\n",
    "    if idsort150[i] == idsann0[p]:\n",
    "        xann150=np.append(xann150,xid150[i])\n",
    "        yann150=np.append(yann150,yid150[i])\n",
    "        zann150=np.append(zann150,zid150[i])        \n",
    "        p=p+1"
   ]
  },
  {
   "cell_type": "code",
   "execution_count": 34,
   "metadata": {
    "collapsed": false,
    "deletable": true,
    "editable": true
   },
   "outputs": [],
   "source": [
    "snap200=\"snapshot_200\"\n",
    "pos200  = G.read_block(path_snap+snap200,\"POS\",parttype=0)\n",
    "mass200 = G.read_block(path_snap+snap200,\"MASS\",parttype=0)\n",
    "ids200  = G.read_block(path_snap+snap200,\"ID\",parttype=0)\n",
    "x200=[row[0] for row in pos200]\n",
    "y200=[row[1] for row in pos200]\n",
    "z200=[row[2] for row in pos200]\n",
    "idsort200,xid200,yid200,zid200  = zip(*sorted(zip(ids200,x200,y200,z200)))\n",
    "xann200=np.array([])\n",
    "yann200=np.array([])\n",
    "zann200=np.array([])\n",
    "p=0\n",
    "for i in range(len(idsort200)):\n",
    "    if p>=len(idsann0):\n",
    "        continue\n",
    "    if idsort200[i] == idsann0[p]:\n",
    "        xann200=np.append(xann200,xid200[i])\n",
    "        yann200=np.append(yann200,yid200[i])\n",
    "        zann200=np.append(zann200,zid200[i])        \n",
    "        p=p+1"
   ]
  },
  {
   "cell_type": "code",
   "execution_count": 35,
   "metadata": {
    "collapsed": false,
    "deletable": true,
    "editable": true
   },
   "outputs": [],
   "source": [
    "snap250=\"snapshot_250\"\n",
    "pos250  = G.read_block(path_snap+snap250,\"POS\",parttype=0)\n",
    "mass250 = G.read_block(path_snap+snap250,\"MASS\",parttype=0)\n",
    "ids250  = G.read_block(path_snap+snap250,\"ID\",parttype=0)\n",
    "x250=[row[0] for row in pos250]\n",
    "y250=[row[1] for row in pos250]\n",
    "z250=[row[2] for row in pos250]\n",
    "idsort250,xid250,yid250,zid250  = zip(*sorted(zip(ids250,x250,y250,z250)))\n",
    "xann250=np.array([])\n",
    "yann250=np.array([])\n",
    "zann250=np.array([])\n",
    "p=0\n",
    "for i in range(len(idsort250)):\n",
    "    if p>=len(idsann0):\n",
    "        continue\n",
    "    if idsort250[i] == idsann0[p]:\n",
    "        xann250=np.append(xann250,xid250[i])\n",
    "        yann250=np.append(yann250,yid250[i])\n",
    "        zann250=np.append(zann250,zid250[i])        \n",
    "        p=p+1"
   ]
  },
  {
   "cell_type": "code",
   "execution_count": 37,
   "metadata": {
    "collapsed": false,
    "deletable": true,
    "editable": true
   },
   "outputs": [],
   "source": [
    "snap300=\"snapshot_300\"\n",
    "pos300  = G.read_block(path_snap+snap300,\"POS\",parttype=0)\n",
    "mass300 = G.read_block(path_snap+snap300,\"MASS\",parttype=0)\n",
    "ids300  = G.read_block(path_snap+snap300,\"ID\",parttype=0)\n",
    "x300=[row[0] for row in pos300]\n",
    "y300=[row[1] for row in pos300]\n",
    "z300=[row[2] for row in pos300]\n",
    "idsort300,xid300,yid300,zid300  = zip(*sorted(zip(ids300,x300,y300,z300)))\n",
    "xann300=np.array([])\n",
    "yann300=np.array([])\n",
    "zann300=np.array([])\n",
    "p=0\n",
    "for i in range(len(idsort300)):\n",
    "    if p>=len(idsann0):\n",
    "        continue\n",
    "    if idsort300[i] == idsann0[p]:\n",
    "        xann300=np.append(xann300,xid300[i])\n",
    "        yann300=np.append(yann300,yid300[i])\n",
    "        zann300=np.append(zann300,zid300[i])        \n",
    "        p=p+1"
   ]
  },
  {
   "cell_type": "code",
   "execution_count": 8,
   "metadata": {
    "collapsed": false,
    "deletable": true,
    "editable": true
   },
   "outputs": [],
   "source": [
    "plt.rc('text', usetex=True)\n",
    "font = {'family': 'serif', 'size': 20, 'serif': ['computer modern roman']}\n",
    "plt.rc('font', **font)\n",
    "plt.rc('legend', **{'fontsize': 12}) \n",
    "plt.rcParams['text.latex.preamble'] = [r'\\usepackage{amsmath}']\n",
    "\n",
    "plt.rcParams['axes.linewidth'] = 1.0\n",
    "plt.rcParams['xtick.major.size'] = 8\n",
    "plt.rcParams['xtick.minor.size'] = 4\n",
    "plt.rcParams['ytick.major.size'] = 6\n",
    "plt.rcParams['ytick.minor.size'] = 3\n",
    "plt.rc('lines', linewidth=3)"
   ]
  },
  {
   "cell_type": "code",
   "execution_count": 52,
   "metadata": {
    "collapsed": false,
    "deletable": true,
    "editable": true
   },
   "outputs": [],
   "source": [
    "#plt.scatter(xann0,yann0,s=0.2,color='red')\n",
    "#plt.scatter(xann10,yann10,s=0.2,color='orange')\n",
    "plt.scatter(xann100,yann100,s=0.2,color='yellow')\n",
    "plt.scatter(xann150,yann150,s=0.2,color='green')\n",
    "plt.scatter(xann200,yann200,s=0.2,color='cyan')\n",
    "#plt.scatter(xann250,yann250,s=0.2,color='blue')\n",
    "plt.scatter(xann300,yann300,s=0.2,color='pink')\n",
    "plt.xlim(-25,25)\n",
    "plt.ylim(-25,25)\n",
    "plt.show()"
   ]
  },
  {
   "cell_type": "code",
   "execution_count": 48,
   "metadata": {
    "collapsed": false,
    "deletable": true,
    "editable": true
   },
   "outputs": [],
   "source": [
    "#plt.scatter(xann0,zann0,s=0.2,color='red')\n",
    "#plt.scatter(xann10,zann10,s=0.2,color='orange')\n",
    "plt.scatter(xann100,zann100,s=0.2,color='yellow')\n",
    "plt.scatter(xann150,zann150,s=0.2,color='green')\n",
    "plt.scatter(xann200,zann200,s=0.2,color='cyan')\n",
    "#plt.scatter(xann250,zann250,s=0.2,color='blue')\n",
    "plt.scatter(xann300,zann300,s=0.2,color='pink')\n",
    "plt.xlim(-25,25)\n",
    "plt.ylim(-25,25)\n",
    "plt.show()"
   ]
  },
  {
   "cell_type": "code",
   "execution_count": 18,
   "metadata": {
    "collapsed": false,
    "deletable": true,
    "editable": true
   },
   "outputs": [],
   "source": [
    "fig = plt.figure(figsize=(14,7))\n",
    "\n",
    "#plot 1--------------------------------------------------------------------------------------------------------------------------------\n",
    "ax1 = fig.add_subplot(121)\n",
    "plt.scatter(xann0,yann0,s=0.2,color='red')\n",
    "plt.scatter(xann10,yann10,s=0.2,color='orange')\n",
    "plt.scatter(xann100,yann100,s=0.2,color='yellow')\n",
    "plt.scatter(xann150,yann150,s=0.2,color='green')\n",
    "plt.scatter(xann200,yann200,s=0.2,color='cyan')\n",
    "plt.scatter(xann250,yann250,s=0.2,color='blue')\n",
    "plt.scatter(xann300,yann300,s=0.2,color='pink')\n",
    "ax1.set_xlabel('X')\n",
    "ax1.set_ylabel('Y')\n",
    "ax1.set_xlim(-200,200)\n",
    "\n",
    "xticks1 = ax1.xaxis.get_major_ticks()\n",
    "for i in range(len(xticks1)):\n",
    "    if i%2==0:\n",
    "        xticks1[i].label1.set_visible(False)\n",
    "\n",
    "yticks1 = ax1.yaxis.get_major_ticks()\n",
    "for i in range(len(yticks1)):\n",
    "    if i%2!=0:\n",
    "        yticks1[i].label1.set_visible(False)\n",
    "\n",
    "        \n",
    "        \n",
    "ax1.minorticks_on()\n",
    "\n",
    "#plot 2--------------------------------------------------------------------------------------------------------------------------------\n",
    "ax2 = fig.add_subplot(122)\n",
    "plt.scatter(xann0,zann0,s=0.2,color='red')\n",
    "plt.scatter(xann10,zann10,s=0.2,color='orange')\n",
    "plt.scatter(xann100,zann100,s=0.2,color='yellow')\n",
    "plt.scatter(xann150,zann150,s=0.2,color='green')\n",
    "plt.scatter(xann200,zann200,s=0.2,color='cyan')\n",
    "plt.scatter(xann250,zann250,s=0.2,color='blue')\n",
    "plt.scatter(xann300,zann300,s=0.2,color='pink')\n",
    "ax2.set_xlabel('X')\n",
    "ax2.set_ylabel('Z')\n",
    "ax2.yaxis.set_label_coords(-0.1, 0.5)\n",
    "ax2.set_xlim(-200,200)\n",
    "\n",
    "xticks2 = ax2.xaxis.get_major_ticks()\n",
    "for i in range(len(xticks2)):\n",
    "    if i%2==0:\n",
    "        xticks2[i].label1.set_visible(False)\n",
    "        \n",
    "yticks2 = ax2.yaxis.get_major_ticks()\n",
    "for i in range(len(yticks2)):\n",
    "    if i%2!=0:\n",
    "        yticks2[i].label1.set_visible(False)\n",
    "        \n",
    "ax2.minorticks_on()\n",
    "\n",
    "ax2.legend(loc='upper right', frameon=False,markerscale=10.,ncol=1, scatterpoints=1,borderpad=0.1, labelspacing=0.2, handletextpad=-0.1)\n",
    "\n",
    "\n",
    "#plt.savefig(path_save+'anillo.pdf', format='pdf', dpi=100, bbox_inches='tight')\n",
    "plt.savefig(path_save+'particulas_centro.png', dpi=100, bbox_inches='tight')\n",
    "#plt.savefig('particulas.eps',  bbox_inches='tight')\n",
    "\n",
    "plt.show()"
   ]
  },
  {
   "cell_type": "code",
   "execution_count": 95,
   "metadata": {
    "collapsed": false,
    "deletable": true,
    "editable": true
   },
   "outputs": [],
   "source": [
    "fig = plt.figure(figsize=(14,7))\n",
    "\n",
    "#plot 1--------------------------------------------------------------------------------------------------------------------------------\n",
    "ax1 = fig.add_subplot(121)\n",
    "ax1.scatter(xann0,yann0,s=0.2,color='red',zorder=3)\n",
    "ax1.scatter(xann10,yann10,s=0.2,color='yellow',zorder=2)\n",
    "ax1.scatter(xann100,yann100,s=0.2,color='green',zorder=1)\n",
    "ax1.scatter(xann300,yann300,s=0.2,color='blue',zorder=0)\n",
    "ax1.set_xlabel('X')\n",
    "ax1.set_ylabel('Y')\n",
    "ax1.set_xlim(-300,300)\n",
    "\n",
    "xticks1 = ax1.xaxis.get_major_ticks()\n",
    "for i in range(len(xticks1)):\n",
    "    if i%2==0:\n",
    "        xticks1[i].label1.set_visible(False)\n",
    "\n",
    "yticks1 = ax1.yaxis.get_major_ticks()\n",
    "for i in range(len(yticks1)):\n",
    "    if i%2!=0:\n",
    "        yticks1[i].label1.set_visible(False)\n",
    "\n",
    "ax1.minorticks_on()\n",
    "\n",
    "#plot 2--------------------------------------------------------------------------------------------------------------------------------\n",
    "ax2 = fig.add_subplot(122)\n",
    "ax2.scatter(yann0,zann0,s=0.2,color='red',zorder=3,label=\"snap 0\")\n",
    "ax2.scatter(yann10,zann10,s=0.2,color='yellow',zorder=2,label=\"snap 10\")\n",
    "ax2.scatter(yann100,zann100,s=0.2,color='green',zorder=1,label=\"snap 100\")\n",
    "ax2.scatter(yann300,zann300,s=0.2,color='blue',zorder=0,label=\"snap 300\")\n",
    "ax2.set_xlabel('Y')\n",
    "ax2.set_ylabel('Z')\n",
    "ax2.yaxis.set_label_coords(-0.1, 0.5)\n",
    "ax2.set_xlim(-300,300)\n",
    "\n",
    "xticks2 = ax2.xaxis.get_major_ticks()\n",
    "for i in range(len(xticks2)):\n",
    "    if i%2==0:\n",
    "        xticks2[i].label1.set_visible(False)\n",
    "        \n",
    "yticks2 = ax2.yaxis.get_major_ticks()\n",
    "for i in range(len(yticks2)):\n",
    "    if i%2!=0:\n",
    "        yticks2[i].label1.set_visible(False)\n",
    "        \n",
    "ax2.minorticks_on()\n",
    "\n",
    "ax2.legend(loc='upper right', frameon=False,markerscale=10.,ncol=1, scatterpoints=1,borderpad=0.1, labelspacing=0.2, handletextpad=-0.1)\n",
    "\n",
    "plt.savefig(path_save+'anillo3.pdf', format='pdf', dpi=100, bbox_inches='tight')\n",
    "#plt.savefig(path_save+'particulas.png', dpi=100, bbox_inches='tight')\n",
    "#plt.savefig('particulas.eps',  bbox_inches='tight')\n",
    "\n",
    "plt.show()"
   ]
  },
  {
   "cell_type": "code",
   "execution_count": 29,
   "metadata": {
    "collapsed": false,
    "deletable": true,
    "editable": true
   },
   "outputs": [
    {
     "ename": "AttributeError",
     "evalue": "'NoneType' object has no attribute 'tk'",
     "output_type": "error",
     "traceback": [
      "\u001b[1;31m---------------------------------------------------------------------------\u001b[0m\n\u001b[1;31mAttributeError\u001b[0m                            Traceback (most recent call last)",
      "\u001b[1;32m<ipython-input-29-79b32e892768>\u001b[0m in \u001b[0;36m<module>\u001b[1;34m()\u001b[0m\n\u001b[0;32m     86\u001b[0m \u001b[1;31m#plt.savefig('particulas.eps',  bbox_inches='tight')\u001b[0m\u001b[1;33m\u001b[0m\u001b[1;33m\u001b[0m\u001b[0m\n\u001b[0;32m     87\u001b[0m \u001b[1;33m\u001b[0m\u001b[0m\n\u001b[1;32m---> 88\u001b[1;33m \u001b[0mplt\u001b[0m\u001b[1;33m.\u001b[0m\u001b[0mshow\u001b[0m\u001b[1;33m(\u001b[0m\u001b[1;33m)\u001b[0m\u001b[1;33m\u001b[0m\u001b[0m\n\u001b[0m",
      "\u001b[1;32m/usr/lib64/python2.7/site-packages/matplotlib/pyplot.pyc\u001b[0m in \u001b[0;36mshow\u001b[1;34m(*args, **kw)\u001b[0m\n\u001b[0;32m    153\u001b[0m     \"\"\"\n\u001b[0;32m    154\u001b[0m     \u001b[1;32mglobal\u001b[0m \u001b[0m_show\u001b[0m\u001b[1;33m\u001b[0m\u001b[0m\n\u001b[1;32m--> 155\u001b[1;33m     \u001b[1;32mreturn\u001b[0m \u001b[0m_show\u001b[0m\u001b[1;33m(\u001b[0m\u001b[1;33m*\u001b[0m\u001b[0margs\u001b[0m\u001b[1;33m,\u001b[0m \u001b[1;33m**\u001b[0m\u001b[0mkw\u001b[0m\u001b[1;33m)\u001b[0m\u001b[1;33m\u001b[0m\u001b[0m\n\u001b[0m\u001b[0;32m    156\u001b[0m \u001b[1;33m\u001b[0m\u001b[0m\n\u001b[0;32m    157\u001b[0m \u001b[1;33m\u001b[0m\u001b[0m\n",
      "\u001b[1;32m/usr/lib64/python2.7/site-packages/matplotlib/backend_bases.pyc\u001b[0m in \u001b[0;36m__call__\u001b[1;34m(self, block)\u001b[0m\n\u001b[0;32m    182\u001b[0m \u001b[1;33m\u001b[0m\u001b[0m\n\u001b[0;32m    183\u001b[0m         \u001b[1;32mif\u001b[0m \u001b[1;32mnot\u001b[0m \u001b[0mis_interactive\u001b[0m\u001b[1;33m(\u001b[0m\u001b[1;33m)\u001b[0m \u001b[1;32mor\u001b[0m \u001b[0mget_backend\u001b[0m\u001b[1;33m(\u001b[0m\u001b[1;33m)\u001b[0m \u001b[1;33m==\u001b[0m \u001b[1;34m'WebAgg'\u001b[0m\u001b[1;33m:\u001b[0m\u001b[1;33m\u001b[0m\u001b[0m\n\u001b[1;32m--> 184\u001b[1;33m             \u001b[0mself\u001b[0m\u001b[1;33m.\u001b[0m\u001b[0mmainloop\u001b[0m\u001b[1;33m(\u001b[0m\u001b[1;33m)\u001b[0m\u001b[1;33m\u001b[0m\u001b[0m\n\u001b[0m\u001b[0;32m    185\u001b[0m \u001b[1;33m\u001b[0m\u001b[0m\n\u001b[0;32m    186\u001b[0m     \u001b[1;32mdef\u001b[0m \u001b[0mmainloop\u001b[0m\u001b[1;33m(\u001b[0m\u001b[0mself\u001b[0m\u001b[1;33m)\u001b[0m\u001b[1;33m:\u001b[0m\u001b[1;33m\u001b[0m\u001b[0m\n",
      "\u001b[1;32m/usr/lib64/python2.7/site-packages/matplotlib/backends/backend_tkagg.pyc\u001b[0m in \u001b[0;36mmainloop\u001b[1;34m(self)\u001b[0m\n\u001b[0;32m     69\u001b[0m \u001b[1;32mclass\u001b[0m \u001b[0mShow\u001b[0m\u001b[1;33m(\u001b[0m\u001b[0mShowBase\u001b[0m\u001b[1;33m)\u001b[0m\u001b[1;33m:\u001b[0m\u001b[1;33m\u001b[0m\u001b[0m\n\u001b[0;32m     70\u001b[0m     \u001b[1;32mdef\u001b[0m \u001b[0mmainloop\u001b[0m\u001b[1;33m(\u001b[0m\u001b[0mself\u001b[0m\u001b[1;33m)\u001b[0m\u001b[1;33m:\u001b[0m\u001b[1;33m\u001b[0m\u001b[0m\n\u001b[1;32m---> 71\u001b[1;33m         \u001b[0mTk\u001b[0m\u001b[1;33m.\u001b[0m\u001b[0mmainloop\u001b[0m\u001b[1;33m(\u001b[0m\u001b[1;33m)\u001b[0m\u001b[1;33m\u001b[0m\u001b[0m\n\u001b[0m\u001b[0;32m     72\u001b[0m \u001b[1;33m\u001b[0m\u001b[0m\n\u001b[0;32m     73\u001b[0m \u001b[0mshow\u001b[0m \u001b[1;33m=\u001b[0m \u001b[0mShow\u001b[0m\u001b[1;33m(\u001b[0m\u001b[1;33m)\u001b[0m\u001b[1;33m\u001b[0m\u001b[0m\n",
      "\u001b[1;32m/usr/lib64/python2.7/lib-tk/Tkinter.pyc\u001b[0m in \u001b[0;36mmainloop\u001b[1;34m(n)\u001b[0m\n\u001b[0;32m    412\u001b[0m \u001b[1;32mdef\u001b[0m \u001b[0mmainloop\u001b[0m\u001b[1;33m(\u001b[0m\u001b[0mn\u001b[0m\u001b[1;33m=\u001b[0m\u001b[1;36m0\u001b[0m\u001b[1;33m)\u001b[0m\u001b[1;33m:\u001b[0m\u001b[1;33m\u001b[0m\u001b[0m\n\u001b[0;32m    413\u001b[0m     \u001b[1;34m\"\"\"Run the main loop of Tcl.\"\"\"\u001b[0m\u001b[1;33m\u001b[0m\u001b[0m\n\u001b[1;32m--> 414\u001b[1;33m     \u001b[0m_default_root\u001b[0m\u001b[1;33m.\u001b[0m\u001b[0mtk\u001b[0m\u001b[1;33m.\u001b[0m\u001b[0mmainloop\u001b[0m\u001b[1;33m(\u001b[0m\u001b[0mn\u001b[0m\u001b[1;33m)\u001b[0m\u001b[1;33m\u001b[0m\u001b[0m\n\u001b[0m\u001b[0;32m    415\u001b[0m \u001b[1;33m\u001b[0m\u001b[0m\n\u001b[0;32m    416\u001b[0m \u001b[0mgetint\u001b[0m \u001b[1;33m=\u001b[0m \u001b[0mint\u001b[0m\u001b[1;33m\u001b[0m\u001b[0m\n",
      "\u001b[1;31mAttributeError\u001b[0m: 'NoneType' object has no attribute 'tk'"
     ]
    }
   ],
   "source": [
    "fig = plt.figure(figsize=(21,6))\n",
    "\n",
    "#plot 1--------------------------------------------------------------------------------------------------------------------------------\n",
    "ax1 = fig.add_subplot(131)\n",
    "plt.scatter(xann0,yann0,s=0.2,color='red')\n",
    "plt.scatter(xann10,yann10,s=0.2,color='orange')\n",
    "plt.scatter(xann100,yann100,s=0.2,color='yellow')\n",
    "plt.scatter(xann150,yann150,s=0.2,color='green')\n",
    "plt.scatter(xann200,yann200,s=0.2,color='cyan')\n",
    "plt.scatter(xann250,yann250,s=0.2,color='blue')\n",
    "plt.scatter(xann300,yann300,s=0.2,color='pink')\n",
    "ax1.set_xlabel('X')\n",
    "ax1.set_ylabel('Y')\n",
    "ax1.set_xlim(-200,200)\n",
    "\n",
    "xticks1 = ax1.xaxis.get_major_ticks()\n",
    "for i in range(len(xticks1)):\n",
    "    if i%2==0:\n",
    "        xticks1[i].label1.set_visible(False)\n",
    "\n",
    "yticks1 = ax1.yaxis.get_major_ticks()\n",
    "for i in range(len(yticks1)):\n",
    "    if i%2!=0:\n",
    "        yticks1[i].label1.set_visible(False)\n",
    "\n",
    "ax1.minorticks_on()\n",
    "\n",
    "#plot 2--------------------------------------------------------------------------------------------------------------------------------\n",
    "ax2 = fig.add_subplot(132)\n",
    "plt.scatter(xann0,zann0,s=0.2,color='red')\n",
    "plt.scatter(xann10,zann10,s=0.2,color='orange')\n",
    "plt.scatter(xann100,zann100,s=0.2,color='yellow')\n",
    "plt.scatter(xann150,zann150,s=0.2,color='green')\n",
    "plt.scatter(xann200,zann200,s=0.2,color='cyan')\n",
    "plt.scatter(xann250,zann250,s=0.2,color='blue')\n",
    "plt.scatter(xann300,zann300,s=0.2,color='pink')\n",
    "ax2.set_xlabel('X')\n",
    "ax2.set_ylabel('Z')\n",
    "ax2.yaxis.set_label_coords(-0.1, 0.5)\n",
    "ax2.set_xlim(-200,200)\n",
    "\n",
    "xticks2 = ax2.xaxis.get_major_ticks()\n",
    "for i in range(len(xticks2)):\n",
    "    if i%2==0:\n",
    "        xticks2[i].label1.set_visible(False)\n",
    "        \n",
    "yticks2 = ax2.yaxis.get_major_ticks()\n",
    "for i in range(len(yticks2)):\n",
    "    if i%2!=0:\n",
    "        yticks2[i].label1.set_visible(False)\n",
    "        \n",
    "ax2.minorticks_on()\n",
    "\n",
    "\n",
    "#plot 3--------------------------------------------------------------------------------------------------------------------------------\n",
    "ax3 = fig.add_subplot(133)\n",
    "plt.scatter(yann0,zann0,s=0.2,color='red',label=\"snap 0\")\n",
    "plt.scatter(yann10,zann10,s=0.2,color='orange',label=\"snap 10\")\n",
    "plt.scatter(yann100,zann100,s=0.2,color='yellow',label=\"snap 100\")\n",
    "plt.scatter(yann150,zann150,s=0.2,color='green',label=\"snap 150\")\n",
    "plt.scatter(yann200,zann200,s=0.2,color='cyan',label=\"snap 200\")\n",
    "plt.scatter(yann250,zann250,s=0.2,color='blue',label=\"snap 250\")\n",
    "plt.scatter(yann300,zann300,s=0.2,color='pink',label=\"snap 300\")\n",
    "ax3.set_xlabel('Y')\n",
    "ax3.set_ylabel('Z')\n",
    "ax3.yaxis.set_label_coords(-0.1, 0.5)\n",
    "ax3.set_xlim(-200,200)\n",
    "\n",
    "xticks3 = ax3.xaxis.get_major_ticks()\n",
    "for i in range(len(xticks3)):\n",
    "    if i%2==0:\n",
    "        xticks3[i].label1.set_visible(False)\n",
    "        \n",
    "yticks3 = ax3.yaxis.get_major_ticks()\n",
    "for i in range(len(yticks3)):\n",
    "    if i%2!=0:\n",
    "        yticks3[i].label1.set_visible(False)\n",
    "        \n",
    "ax3.minorticks_on()\n",
    "\n",
    "ax3.legend(loc='upper right', frameon=False,markerscale=10., columnspacing=0.01,\n",
    "           ncol=4, scatterpoints=1,borderpad=0.1, labelspacing=0.2, handletextpad=-0.1)\n",
    "\n",
    "#plt.savefig(path_save+'centrox3.pdf', format='pdf', dpi=100, bbox_inches='tight')\n",
    "#lt.savefig(path_save+'centrox3.png', dpi=100, bbox_inches='tight')\n",
    "#plt.savefig('particulas.eps',  bbox_inches='tight')\n",
    "\n",
    "plt.show()"
   ]
  },
  {
   "cell_type": "code",
   "execution_count": null,
   "metadata": {
    "collapsed": false,
    "deletable": true,
    "editable": true
   },
   "outputs": [],
   "source": []
  }
 ],
 "metadata": {
  "kernelspec": {
   "display_name": "Python 2",
   "language": "python",
   "name": "python2"
  },
  "language_info": {
   "codemirror_mode": {
    "name": "ipython",
    "version": 2
   },
   "file_extension": ".py",
   "mimetype": "text/x-python",
   "name": "python",
   "nbconvert_exporter": "python",
   "pygments_lexer": "ipython2",
   "version": "2.7.10"
  }
 },
 "nbformat": 4,
 "nbformat_minor": 0
}
