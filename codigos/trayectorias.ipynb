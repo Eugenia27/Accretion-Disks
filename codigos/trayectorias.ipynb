{
 "cells": [
  {
   "cell_type": "code",
   "execution_count": 67,
   "metadata": {
    "collapsed": false,
    "deletable": true,
    "editable": true
   },
   "outputs": [],
   "source": [
    "import Gadget as G\n",
    "import matplotlib.pyplot as plt\n",
    "from matplotlib.offsetbox import AnchoredText\n",
    "from mpl_toolkits.mplot3d import Axes3D\n",
    "import numpy as np\n",
    "import cython"
   ]
  },
  {
   "cell_type": "code",
   "execution_count": 6,
   "metadata": {
    "collapsed": false,
    "deletable": true,
    "editable": true
   },
   "outputs": [],
   "source": [
    "path_snap=\"/home/meugenia/Documentos/discos/snaps/\"\n",
    "path_save=\"/home/meugenia/Documentos/discos/plots/\""
   ]
  },
  {
   "cell_type": "code",
   "execution_count": 7,
   "metadata": {
    "collapsed": false,
    "deletable": true,
    "editable": true
   },
   "outputs": [],
   "source": [
    "snaps=[\"000\",\"001\",\"002\",\"003\",\"004\",\"005\",\"006\",\"007\",\"008\",\"009\",\n",
    "       \"010\",\"020\",\"030\",\"040\",\"050\",\"060\",\"070\",\"080\",\"090\",\n",
    "       \"100\",\"110\",\"120\",\"130\",\"140\",\"150\",\"160\",\"170\",\"180\",\"190\",\n",
    "       \"200\",\"210\",\"220\",\"230\",\"240\",\"250\",\"260\",\"270\",\"280\",\"290\",\n",
    "       \"300\",\"310\",\"320\",\"330\",\"340\",\"350\",\"370\"]"
   ]
  },
  {
   "cell_type": "code",
   "execution_count": 18,
   "metadata": {
    "collapsed": false,
    "deletable": true,
    "editable": true
   },
   "outputs": [],
   "source": [
    "idps=[1,5,10,50,100,500,1000,2000]"
   ]
  },
  {
   "cell_type": "code",
   "execution_count": null,
   "metadata": {
    "collapsed": false,
    "deletable": true,
    "editable": true
   },
   "outputs": [],
   "source": []
  },
  {
   "cell_type": "code",
   "execution_count": 8,
   "metadata": {
    "collapsed": false,
    "deletable": true,
    "editable": true
   },
   "outputs": [],
   "source": [
    "def coordenadas(snap,pid):\n",
    "    pos  = G.read_block(path_snap+\"snapshot_\"+snap,\"POS\",parttype=0)\n",
    "    ids  = G.read_block(path_snap+\"snapshot_\"+snap,\"ID\",parttype=0)\n",
    "    x=[pos[i,0] for i in range(len(pos)) if ids[i]==pid]\n",
    "    y=[pos[i,1] for i in range(len(pos)) if ids[i]==pid]\n",
    "    z=[pos[i,2] for i in range(len(pos)) if ids[i]==pid]\n",
    "    return x,y,z"
   ]
  },
  {
   "cell_type": "code",
   "execution_count": 14,
   "metadata": {
    "collapsed": false,
    "deletable": true,
    "editable": true
   },
   "outputs": [],
   "source": [
    "evox=np.array([])\n",
    "evoy=np.array([])\n",
    "evoz=np.array([])\n",
    "for i in range(len(snaps)):\n",
    "    #print i,snaps[i]\n",
    "    if i%5!=0:\n",
    "        continue\n",
    "    x,y,z=coordenadas(snaps[i],2000)\n",
    "    evox=np.append(evox,x)\n",
    "    evoy=np.append(evoy,y)\n",
    "    evoz=np.append(evoz,z)"
   ]
  },
  {
   "cell_type": "code",
   "execution_count": 29,
   "metadata": {
    "collapsed": false,
    "deletable": true,
    "editable": true
   },
   "outputs": [
    {
     "name": "stdout",
     "output_type": "stream",
     "text": [
      "0\n",
      "1\n",
      "2\n",
      "3\n",
      "4\n",
      "5\n",
      "6\n",
      "7\n"
     ]
    }
   ],
   "source": [
    "evo=[]\n",
    "for j in range(len(idps)):\n",
    "    evo.append([])\n",
    "    \n",
    "for i in range(len(idps)):\n",
    "    print i\n",
    "    for j in range(len(snaps)):\n",
    "        x,y,z=coordenadas(snaps[j],idps[i])\n",
    "        evo[i].append([x,y,z])"
   ]
  },
  {
   "cell_type": "code",
   "execution_count": 79,
   "metadata": {
    "collapsed": false,
    "deletable": true,
    "editable": true
   },
   "outputs": [],
   "source": [
    "fig = plt.figure()\n",
    "ax = fig.add_subplot(111, projection='3d')\n",
    "c=['red','orange','yellow','green','cyan','blue','purple','brown']\n",
    "for i in range(len(idps)):\n",
    "    xp=[row[0] for row in evo[i]]\n",
    "    yp=[row[1] for row in evo[i]]\n",
    "    zp=[row[2] for row in evo[i]]\n",
    "    #print len(xp),len(yp),len(zp)\n",
    "    ax.scatter(xp, yp, zp,lw=0.01,c=c[i])\n",
    "\n",
    "plt.show()"
   ]
  },
  {
   "cell_type": "code",
   "execution_count": 80,
   "metadata": {
    "collapsed": false,
    "deletable": true,
    "editable": true
   },
   "outputs": [],
   "source": [
    "fig = plt.figure()\n",
    "ax = fig.add_subplot(111, projection='3d')\n",
    "c=['red','orange','yellow','green','cyan','blue','purple','brown']\n",
    "\n",
    "xp=[row[0] for row in evo[2]]\n",
    "yp=[row[1] for row in evo[2]]\n",
    "zp=[row[2] for row in evo[2]]\n",
    "ax.scatter(xp, yp, zp,lw=1,color='black')\n",
    "\n",
    "plt.show()"
   ]
  },
  {
   "cell_type": "code",
   "execution_count": 90,
   "metadata": {
    "collapsed": false,
    "deletable": true,
    "editable": true
   },
   "outputs": [],
   "source": [
    "fig = plt.figure()\n",
    "c=['red','orange','yellow','green','cyan','blue','purple','brown']\n",
    "for i in range(len(idps)):\n",
    "    xp=[row[0] for row in evo[i]]\n",
    "    yp=[row[1] for row in evo[i]]\n",
    "    zp=[row[2] for row in evo[i]]\n",
    "    #print len(xp),len(yp),len(zp)\n",
    "    plt.plot(xp, zp,marker='.')\n",
    "\n",
    "plt.show()"
   ]
  },
  {
   "cell_type": "code",
   "execution_count": null,
   "metadata": {
    "collapsed": false,
    "deletable": true,
    "editable": true
   },
   "outputs": [],
   "source": []
  }
 ],
 "metadata": {
  "kernelspec": {
   "display_name": "Python 2",
   "language": "python",
   "name": "python2"
  },
  "language_info": {
   "codemirror_mode": {
    "name": "ipython",
    "version": 2
   },
   "file_extension": ".py",
   "mimetype": "text/x-python",
   "name": "python",
   "nbconvert_exporter": "python",
   "pygments_lexer": "ipython2",
   "version": "2.7.10"
  }
 },
 "nbformat": 4,
 "nbformat_minor": 0
}
